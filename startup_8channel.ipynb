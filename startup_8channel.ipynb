{
 "cells": [
  {
   "cell_type": "markdown",
   "id": "23bdc809",
   "metadata": {},
   "source": [
    "### IMPORTS"
   ]
  },
  {
   "cell_type": "code",
   "execution_count": 1,
   "id": "c65ac33c",
   "metadata": {},
   "outputs": [],
   "source": [
    "import openmc\n",
    "import numpy as np\n",
    "from Meshing.Meshing import *\n",
    "from Fields.Fields import *\n",
    "from Kernels.Kernels import *\n",
    "from Solvers.Solvers import *\n",
    "from Subchannel.FluidRelation import FluidRelation\n",
    "from Subchannel.Channel import Channel\n",
    "from Subchannel.Channel import ChannelInterface\n",
    "from Aux.CSVObjects import *\n",
    "from Aux.ReactorPhysicsObjects import *\n",
    "\n",
    "import matplotlib.pyplot as plt\n",
    "from matplotlib.patches import Circle\n",
    "import matplotlib.cm as cm\n",
    "import matplotlib.colors as colors\n",
    "from matplotlib.patches import Rectangle\n",
    "\n",
    "import pandas as pd"
   ]
  },
  {
   "cell_type": "code",
   "execution_count": 2,
   "id": "0ce100a4",
   "metadata": {},
   "outputs": [],
   "source": [
    "# FLUID\n",
    "fluid = FluidRelation(cp=1983, mu=0.00744, k=1.44, rho_0 = 2715.13, drho_dT=-0.513)\n",
    "\n",
    "### BC DATA ###\n",
    "mdot_csv = load_csv('Data/msre_flow_coastdown.csv')\n",
    "MDOT_MAX = 158\n",
    "START_TIME = -100\n",
    "mdot_bc = MDOT_MAX / 100 * csv_interpolator(csv_df=mdot_csv, x_value=START_TIME, x_label='time', y_label='mdot')\n",
    "\n",
    "T_bc = 900\n",
    "pressure_bc = 0.0\n",
    "\n",
    "\n"
   ]
  },
  {
   "cell_type": "code",
   "execution_count": 3,
   "id": "c511accf",
   "metadata": {},
   "outputs": [],
   "source": [
    "# SET CHANNELS UP FROM FULL CORE SOLUTION (NEED TO RUN COASTDOWN SIMULATION FIRST)\n",
    "ch1 = Channel.import_from_pkl(filename='Data/model_8_channels/channel_1_setup.pkl')\n",
    "ch2 = Channel.import_from_pkl(filename='Data/model_8_channels/channel_2_setup.pkl')\n",
    "ch3 = Channel.import_from_pkl(filename='Data/model_8_channels/channel_3_setup.pkl')\n",
    "ch4 = Channel.import_from_pkl(filename='Data/model_8_channels/channel_4_setup.pkl')\n",
    "ch5 = Channel.import_from_pkl(filename='Data/model_8_channels/channel_5_setup.pkl')\n",
    "ch6 = Channel.import_from_pkl(filename='Data/model_8_channels/channel_6_setup.pkl')\n",
    "ch7 = Channel.import_from_pkl(filename='Data/model_8_channels/channel_7_setup.pkl')\n",
    "ch8 = Channel.import_from_pkl(filename='Data/model_8_channels/channel_8_setup.pkl')\n",
    "\n",
    "upper_plenum_channel = Channel.import_from_pkl(filename='Data/model_8_channels/upper_plenum.pkl')\n",
    "lower_plenum_channel = Channel.import_from_pkl(filename='Data/model_8_channels/lower_plenum.pkl')\n",
    "ex_channel = Channel.import_from_pkl(filename='Data/model_8_channels/external_loop.pkl')\n",
    "downcomer_channel = Channel.import_from_pkl(filename='Data/model_8_channels/downcomer.pkl')\n",
    "\n",
    "\n",
    "# channel array\n",
    "ch_arr_list = [ch1,ch2,ch3,ch4,ch5,ch6,ch7,ch8]\n",
    "ratios = [ch1.mdot_bc,ch2.mdot_bc,ch3.mdot_bc,ch4.mdot_bc,ch5.mdot_bc,ch6.mdot_bc,ch7.mdot_bc,ch8.mdot_bc]\n",
    "ch = ChannelArray(channels=ch_arr_list,\n",
    "                  coupling_method='ratio_method',\n",
    "                  flow_ratios=ratios,\n",
    "                  fluid=fluid,\n",
    "                  mdot_relaxation=1.0,\n",
    "                  epsilon=1e-6)\n",
    "# set bcs for the channel array.\n",
    "ch.set_bcs(pressure_bc=pressure_bc,\n",
    "           T_bc=T_bc,\n",
    "           mdot_bc=mdot_bc,\n",
    "           tracer_name_value_pairs={}, tracer_bool=False, th_bool=True)\n",
    "\n",
    "\n"
   ]
  },
  {
   "cell_type": "code",
   "execution_count": 4,
   "id": "62094639",
   "metadata": {},
   "outputs": [
    {
     "name": "stdout",
     "output_type": "stream",
     "text": [
      "8.420001252243992\n",
      "3.900000005325571\n",
      "5.457869158342907\n",
      "1.6763932813804403\n",
      "3.7999999986064488\n",
      "total residence time = 23.25426369589936\n"
     ]
    }
   ],
   "source": [
    "### PRINT CHANNEL RESIDENCE TIMES\n",
    "print(ch.get_channel_residence_time())\n",
    "print(upper_plenum_channel.get_channel_residence_time())\n",
    "print(ex_channel.get_channel_residence_time())\n",
    "print(downcomer_channel.get_channel_residence_time())\n",
    "print(lower_plenum_channel.get_channel_residence_time())\n",
    "print(\"total residence time =\", ch.get_channel_residence_time()\n",
    "      + upper_plenum_channel.get_channel_residence_time()\n",
    "      + ex_channel.get_channel_residence_time()\n",
    "      + downcomer_channel.get_channel_residence_time()\n",
    "      + lower_plenum_channel.get_channel_residence_time())"
   ]
  },
  {
   "cell_type": "code",
   "execution_count": 5,
   "id": "bf652337",
   "metadata": {},
   "outputs": [],
   "source": [
    "ch_to_up = ChannelInterface(ch1=ch, ch2=upper_plenum_channel)\n",
    "up_to_ex = ChannelInterface(ch1=upper_plenum_channel, ch2=ex_channel)\n",
    "ex_to_downcomer = ChannelInterface(ch1=ex_channel, ch2=downcomer_channel)\n",
    "downcomer_to_lp = ChannelInterface(ch1=downcomer_channel, ch2=lower_plenum_channel)\n",
    "lp_to_ch = ChannelInterface(ch1=lower_plenum_channel, ch2=ch)"
   ]
  },
  {
   "cell_type": "code",
   "execution_count": 6,
   "id": "a3f75655",
   "metadata": {},
   "outputs": [
    {
     "name": "stdout",
     "output_type": "stream",
     "text": [
      "Iteration nuimber 1  and diff is 0.9999999923730752\n",
      "Iteration nuimber 2  and diff is 6.699030510060044e-05\n",
      "Iteration nuimber 3  and diff is 4.8885962150690965e-05\n",
      "Iteration nuimber 4  and diff is 3.5673729553709066e-05\n",
      "Iteration nuimber 5  and diff is 2.6031975430940157e-05\n",
      "Iteration nuimber 6  and diff is 1.8995973206314964e-05\n",
      "Iteration nuimber 7  and diff is 1.3861585727803494e-05\n",
      "Iteration nuimber 8  and diff is 1.0114910682035294e-05\n",
      "Iteration nuimber 9  and diff is 7.380904090581453e-06\n",
      "Iteration nuimber 10  and diff is 5.3858702230291655e-06\n",
      "Iteration nuimber 11  and diff is 3.930079543357223e-06\n",
      "Iteration nuimber 12  and diff is 2.8677821960476635e-06\n",
      "Iteration nuimber 13  and diff is 2.092620745686169e-06\n",
      "Iteration nuimber 14  and diff is 1.526984233501949e-06\n",
      "Iteration nuimber 15  and diff is 1.1142389417795329e-06\n",
      "Iteration nuimber 16  and diff is 8.13058759430163e-07\n",
      "Iteration nuimber 17  and diff is 5.932877799041947e-07\n",
      "Iteration nuimber 18  and diff is 4.3292112450465936e-07\n",
      "Iteration nuimber 19  and diff is 3.159017888387794e-07\n",
      "Iteration nuimber 20  and diff is 2.305129532809147e-07\n",
      "Iteration nuimber 21  and diff is 1.682048652584811e-07\n",
      "Iteration nuimber 22  and diff is 1.22738763930208e-07\n",
      "Iteration nuimber 23  and diff is 8.956223407352581e-08\n",
      "Iteration nuimber 24  and diff is 6.535338259450185e-08\n",
      "Iteration nuimber 25  and diff is 4.7688230919717967e-08\n",
      "Iteration nuimber 26  and diff is 3.4798005810188215e-08\n",
      "Iteration nuimber 27  and diff is 2.539203414197999e-08\n",
      "Iteration nuimber 28  and diff is 1.8528514167392984e-08\n",
      "Iteration nuimber 29  and diff is 1.3520219277474155e-08\n",
      "Iteration nuimber 30  and diff is 9.86567527672122e-09\n",
      "Iteration nuimber 31  and diff is 7.198963980492579e-09\n",
      "Iteration nuimber 32  and diff is 5.2530680916262895e-09\n",
      "Iteration nuimber 33  and diff is 3.833154016419371e-09\n",
      "Iteration nuimber 34  and diff is 2.7970445959368817e-09\n",
      "Iteration nuimber 35  and diff is 2.040997371111075e-09\n",
      "Iteration nuimber 36  and diff is 1.4893127842086074e-09\n",
      "Iteration nuimber 37  and diff is 1.0867459154795256e-09\n",
      "Iteration nuimber 38  and diff is 7.929986667321032e-10\n",
      "Iteration nuimber 39  and diff is 5.786484624792365e-10\n",
      "Iteration nuimber 40  and diff is 4.2223879948011245e-10\n",
      "Iteration nuimber 41  and diff is 3.081068733479242e-10\n",
      "Iteration nuimber 42  and diff is 2.248246033786927e-10\n",
      "Iteration nuimber 43  and diff is 1.6405488079129782e-10\n",
      "Iteration nuimber 44  and diff is 1.1971035274171982e-10\n",
      "Iteration nuimber 45  and diff is 8.735290268901963e-11\n",
      "Iteration nuimber 46  and diff is 6.374090144589672e-11\n",
      "Iteration nuimber 47  and diff is 4.6510684192924145e-11\n",
      "Iteration nuimber 48  and diff is 3.393929581818611e-11\n",
      "Iteration nuimber 49  and diff is 2.4765189898801054e-11\n",
      "Iteration nuimber 50  and diff is 1.807010097110151e-11\n",
      "Iteration nuimber 51  and diff is 1.3186896019590222e-11\n",
      "Iteration nuimber 52  and diff is 9.622858065938544e-12\n",
      "Iteration nuimber 53  and diff is 7.0207173408221024e-12\n",
      "Iteration nuimber 54  and diff is 5.122346991015547e-12\n",
      "Iteration nuimber 55  and diff is 3.739120124635065e-12\n",
      "Iteration nuimber 56  and diff is 2.727928993806472e-12\n",
      "Iteration nuimber 57  and diff is 1.9910739723627557e-12\n",
      "Iteration nuimber 58  and diff is 1.4530598946294049e-12\n",
      "Iteration nuimber 59  and diff is 1.059707877004712e-12\n",
      "Iteration nuimber 60  and diff is 7.748246488858967e-13\n"
     ]
    }
   ],
   "source": [
    "# st.st. solution for thermal hydraulics\n",
    "ch.solve_channel_TH(_dt=1e321)\n",
    "ch_to_up.update_interface_conditions(tracer_bool=False, th_bool=True)\n",
    "\n",
    "upper_plenum_channel.solve_channel_TH(_dt=1e321)\n",
    "up_to_ex.update_interface_conditions(tracer_bool=False, th_bool=True)\n",
    "\n",
    "ex_channel.solve_channel_TH(_dt=1e321)\n",
    "ex_to_downcomer.update_interface_conditions(tracer_bool=False, th_bool=True)\n",
    "\n",
    "downcomer_channel.solve_channel_TH(_dt=1e321)\n",
    "downcomer_to_lp.update_interface_conditions(tracer_bool=False, th_bool=True)\n",
    "\n",
    "lower_plenum_channel.solve_channel_TH(_dt=1e321)\n",
    "lp_to_ch.update_interface_conditions(tracer_bool=False, th_bool=True)\n",
    "\n",
    "# St.St. Solution for tracers\n",
    "ch_outlet_value = 1.0\n",
    "iter_num = 0\n",
    "tracer_to_converge_on = 'c1'\n",
    "while True:\n",
    "  iter_num += 1\n",
    "  ch.solve_all_tracers(_dt=1e321)\n",
    "  ch_to_up.update_interface_conditions(tracer_bool=True, th_bool=False)\n",
    "\n",
    "  upper_plenum_channel.solve_all_tracers(_dt=1e321)\n",
    "  up_to_ex.update_interface_conditions(tracer_bool=True, th_bool=False)\n",
    "\n",
    "  ex_channel.solve_all_tracers(_dt=1e321)\n",
    "  ex_to_downcomer.update_interface_conditions(tracer_bool=True, th_bool=False)\n",
    "\n",
    "  downcomer_channel.solve_all_tracers(_dt=1e321)\n",
    "  downcomer_to_lp.update_interface_conditions(tracer_bool=True, th_bool=False)\n",
    "\n",
    "  lower_plenum_channel.solve_all_tracers(_dt=1e321)\n",
    "  lp_to_ch.update_interface_conditions(tracer_bool=True, th_bool=False)\n",
    "\n",
    "  _,_,_,_,tracer_outlet_weighted_value = ch.get_outlet_conditions()\n",
    "  diff = np.abs(1 - tracer_outlet_weighted_value[tracer_to_converge_on]/ch_outlet_value)\n",
    "\n",
    "  ch_outlet_value = tracer_outlet_weighted_value[tracer_to_converge_on]\n",
    "  print(\"Iteration nuimber\", iter_num, \" and diff is\", diff)\n",
    "  if diff < 1e-12:\n",
    "    break"
   ]
  },
  {
   "cell_type": "code",
   "execution_count": 7,
   "id": "63b621a5",
   "metadata": {},
   "outputs": [
    {
     "data": {
      "text/plain": [
       "[<matplotlib.lines.Line2D at 0x7f21d6b2c550>]"
      ]
     },
     "execution_count": 7,
     "metadata": {},
     "output_type": "execute_result"
    },
    {
     "data": {
      "image/png": "[encoded data removed]",
      "text/plain": [
       "<Figure size 640x480 with 1 Axes>"
      ]
     },
     "metadata": {},
     "output_type": "display_data"
    }
   ],
   "source": [
    "plt.plot(ch.channels[0].tracers['c1'].T, 'k--')\n",
    "plt.plot(upper_plenum_channel.tracers['c1'].T)\n",
    "plt.plot(ex_channel.tracers['c1'].T)\n",
    "plt.plot(downcomer_channel.tracers['c1'].T)\n",
    "plt.plot(lower_plenum_channel.tracers['c1'].T)"
   ]
  },
  {
   "cell_type": "code",
   "execution_count": 12,
   "id": "9f2ae1bd",
   "metadata": {},
   "outputs": [
    {
     "name": "stdout",
     "output_type": "stream",
     "text": [
      "5.936561751705892e-07\n",
      "5.216420330552755e-08\n",
      "2.0912990632140712e-08\n",
      "1.9117083758381587e-08\n"
     ]
    }
   ],
   "source": [
    "print(ch.integrate_tracer_source(tracer_name='c1'))\n",
    "print(upper_plenum_channel.integrate_tracer_source(tracer_name='c1'))\n",
    "print(lower_plenum_channel.integrate_tracer_source(tracer_name='c1'))\n",
    "print(downcomer_channel.integrate_tracer_source(tracer_name='c1'))\n"
   ]
  }
 ],
 "metadata": {
  "kernelspec": {
   "display_name": "openmc-env",
   "language": "python",
   "name": "python3"
  },
  "language_info": {
   "codemirror_mode": {
    "name": "ipython",
    "version": 3
   },
   "file_extension": ".py",
   "mimetype": "text/x-python",
   "name": "python",
   "nbconvert_exporter": "python",
   "pygments_lexer": "ipython3",
   "version": "3.11.6"
  }
 },
 "nbformat": 4,
 "nbformat_minor": 5
}
