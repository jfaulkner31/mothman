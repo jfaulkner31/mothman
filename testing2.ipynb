{
 "cells": [
  {
   "cell_type": "code",
   "execution_count": 51,
   "id": "c333d12a",
   "metadata": {},
   "outputs": [],
   "source": [
    "import numpy as np\n",
    "from Meshing.Meshing import *\n",
    "from Fields.Fields import *\n",
    "from Kernels.Kernels import *\n",
    "from Solvers.Solvers import *\n",
    "from Subchannel.FluidRelation import FluidRelation\n",
    "from Subchannel.Channel import Channel\n",
    "from Subchannel.Channel import ChannelInterface\n",
    "\n"
   ]
  },
  {
   "cell_type": "code",
   "execution_count": 52,
   "id": "e7eeccf6",
   "metadata": {},
   "outputs": [
    {
     "name": "stdout",
     "output_type": "stream",
     "text": [
      "Channel solved after 1 iterations!\n",
      "Channel solved after 2 iterations!\n",
      "Channel solved after 2 iterations!\n",
      "Channel solved after 2 iterations!\n"
     ]
    }
   ],
   "source": [
    "gravity = 9.81\n",
    "Dh = 0.0158276279311347000000\n",
    "perim = 0.07267978843558340\n",
    "area = 0.000287587162368000000\n",
    "temp_tolerance = 1e-10\n",
    "max_temp_iterations = 1000\n",
    "nZones=50\n",
    "L0 = 0.0\n",
    "L1 = 1.74\n",
    "fluid = FluidRelation(cp=1983, mu=0.00744, k=1.44, rho_0 = 2715.13, drho_dT=-0.513)\n",
    "pressure_bc = 0.0\n",
    "T_bc = 900.0\n",
    "mdot_bc = 0.12292778 # Set to have a 9.1725 second residence time in the main core.\n",
    "fric = 'type1'\n",
    "_dt = 1e321\n",
    "heat_source = [0.0]*nZones # heat source in W/m3\n",
    "#################\n",
    "# CHANNEL SETUPS\n",
    "#################\n",
    "ch = Channel(gravity=gravity,\n",
    "             Dh=Dh,\n",
    "             area=area,\n",
    "             temp_tolerance=temp_tolerance,\n",
    "             max_temp_iterations=max_temp_iterations,\n",
    "             nZones=nZones,\n",
    "             L0=L0,\n",
    "             L1=L1,\n",
    "             fluid=fluid,\n",
    "             pressure_bc=pressure_bc,\n",
    "             T_bc=T_bc,\n",
    "             mdot_bc=mdot_bc,\n",
    "             fric=fric,\n",
    "             heat_source=heat_source)\n",
    "\n",
    "upper_plenum = Channel(gravity=gravity,\n",
    "                       Dh=Dh,\n",
    "                       area=1.5424651E-04,\n",
    "                       temp_tolerance=temp_tolerance,\n",
    "                       max_temp_iterations=max_temp_iterations,\n",
    "                       nZones=nZones,\n",
    "                       L0=0.0,\n",
    "                       L1=1.0,\n",
    "                       fluid=fluid,\n",
    "                       pressure_bc=pressure_bc,\n",
    "                       T_bc=1.0,\n",
    "                       mdot_bc=1.0,\n",
    "                       fric='none',\n",
    "                       heat_source=0.0)\n",
    "\n",
    "external_loop = Channel(gravity=gravity,\n",
    "                       Dh=Dh,\n",
    "                       area=1.0005305523E-03,\n",
    "                       temp_tolerance=temp_tolerance,\n",
    "                       max_temp_iterations=max_temp_iterations,\n",
    "                       nZones=nZones,\n",
    "                       L0=0.0,\n",
    "                       L1=1.0,\n",
    "                       fluid=fluid,\n",
    "                       pressure_bc=pressure_bc,\n",
    "                       T_bc=1.0,\n",
    "                       mdot_bc=1.0,\n",
    "                       fric='none',\n",
    "                       heat_source=0.0)\n",
    "\n",
    "lower_plenum = Channel(gravity=gravity,\n",
    "                       Dh=Dh,\n",
    "                       area=2.20816E-04,\n",
    "                       temp_tolerance=temp_tolerance,\n",
    "                       max_temp_iterations=max_temp_iterations,\n",
    "                       nZones=nZones,\n",
    "                       L0=0.0,\n",
    "                       L1=1.0,\n",
    "                       fluid=fluid,\n",
    "                       pressure_bc=pressure_bc,\n",
    "                       T_bc=1.0,\n",
    "                       mdot_bc=1.0,\n",
    "                       fric='none',\n",
    "                       heat_source=0.0)\n",
    "\n",
    "# Interfaces to handle data passing from one channel to another.\n",
    "ch_to_up = ChannelInterface(ch1=ch, ch2=upper_plenum)\n",
    "up_to_ex = ChannelInterface(ch1=upper_plenum, ch2=external_loop)\n",
    "ex_to_lp = ChannelInterface(ch1=external_loop, ch2=lower_plenum)\n",
    "lp_to_ch = ChannelInterface(ch1=lower_plenum, ch2=ch)\n",
    "\n",
    "# Solution order - main channel -> plenum -> external loop -> lower plenum -> main channel\n",
    "ch.solve_channel_TH(_dt=_dt)\n",
    "ch_to_up.update_interface_conditions(tracer_bool=False, th_bool=True)\n",
    "\n",
    "upper_plenum.solve_channel_TH(_dt=_dt)\n",
    "up_to_ex.update_interface_conditions(tracer_bool=False, th_bool=True)\n",
    "\n",
    "external_loop.solve_channel_TH(_dt=_dt)\n",
    "ex_to_lp.update_interface_conditions(tracer_bool=False, th_bool=True)\n",
    "\n",
    "lower_plenum.solve_channel_TH(_dt=_dt)\n",
    "lp_to_ch.update_interface_conditions(tracer_bool=False, th_bool=True)\n",
    "\n",
    "# End\n",
    "\n"
   ]
  },
  {
   "cell_type": "code",
   "execution_count": 53,
   "id": "4bdb1c69",
   "metadata": {},
   "outputs": [
    {
     "name": "stdout",
     "output_type": "stream",
     "text": [
      "0.003920837183791326\n",
      "4.035971546168861\n",
      "2.862788663864756\n",
      "2.0306285215841458\n",
      "1.4403620653940727\n",
      "1.0216752386634607\n",
      "0.7246929910032467\n",
      "0.5140380341372044\n",
      "0.3646166084397269\n",
      "0.25862924982433455\n",
      "0.18345047185573726\n",
      "0.1301247853711356\n",
      "0.0922998976050593\n",
      "0.06547001075624692\n",
      "0.046439079778483716\n",
      "0.032940091283920836\n",
      "0.02336501108481137\n",
      "0.016573231029889612\n",
      "0.011755696831158957\n",
      "0.008338531438850438\n",
      "0.005914673332886977\n",
      "0.004195386308920135\n",
      "0.002975864479770607\n",
      "0.002110835272359779\n",
      "0.001497254185235164\n",
      "0.001062029863033942\n",
      "0.0007533172664473398\n",
      "0.0005343417578451692\n",
      "0.00037901841219678545\n",
      "0.00026884471344779115\n",
      "0.00019069648762837232\n",
      "0.00013526451729006794\n",
      "9.594560377301775e-05\n",
      "6.805597701031729e-05\n",
      "4.827335307311387e-05\n",
      "3.424117499584156e-05\n",
      "2.4287893646501857e-05\n",
      "1.72278485486288e-05\n",
      "1.2220029054432757e-05\n",
      "8.667890808666812e-06\n",
      "6.148293957508599e-06\n",
      "4.361097701632843e-06\n",
      "3.0934066170829055e-06\n",
      "2.194210058092949e-06\n",
      "1.5563934443463268e-06\n",
      "1.1039784393318541e-06\n",
      "7.830721493462534e-07\n",
      "5.554474675761867e-07\n",
      "3.939890458326545e-07\n",
      "2.7946368241771324e-07\n",
      "1.9822871877295256e-07\n",
      "1.4060726094555775e-07\n",
      "9.973532222318227e-08\n",
      "7.074407015750239e-08\n",
      "5.018007875889907e-08\n",
      "3.5593668457067906e-08\n",
      "2.524723896613068e-08\n",
      "1.7908313054704195e-08\n",
      "1.2702683349630206e-08\n",
      "9.010266310838233e-09\n",
      "6.391134732552928e-09\n",
      "4.533367459202964e-09\n",
      "3.2155842433212456e-09\n",
      "2.2808723798561914e-09\n",
      "1.6178685058321207e-09\n",
      "1.147585138028262e-09\n",
      "8.139959817299314e-10\n",
      "5.773905797923362e-10\n",
      "4.0956393831947935e-10\n",
      "2.9049296301764116e-10\n",
      "2.0606982786830486e-10\n",
      "1.46151535318495e-10\n",
      "1.0366996150423802e-10\n",
      "7.354827857852797e-11\n",
      "5.2169824016345956e-11\n",
      "3.699973660786782e-11\n",
      "2.62385668747811e-11\n",
      "1.8623325104272226e-11\n",
      "1.3198331316743861e-11\n",
      "9.35784782996052e-12\n",
      "6.636469151999336e-12\n",
      "4.703792910731863e-12\n",
      "3.3448799285906716e-12\n",
      "2.3785418079569354e-12\n",
      "1.6857626405908377e-12\n",
      "1.1954881529163686e-12\n",
      "8.526512829121202e-13\n"
     ]
    }
   ],
   "source": [
    "tracer_names = ['c1', 'c2', 'c3', 'c4', 'c5', 'c6']\n",
    "initial_value_tracers = 0.0\n",
    "scheme_tracers = 'upwind'\n",
    "decay_consts = [0.01, 0.10, 0.15, 0.20, 0.25, 1]\n",
    "beta = [1.0,1.0,1.0,1.0,1.0,1.0]\n",
    "boundary = 'lower' # must be lower anyways\n",
    "phi_tracer = 1.0\n",
    "rho_tracer = 1.0\n",
    "fsrc = np.sin(np.pi * np.array(ch.mesh.centroids) / L1)\n",
    "\n",
    "# TRACER SETUP IN MAIN CHANNEL\n",
    "for idx, name in enumerate(tracer_names):\n",
    "  ch.add_tracer_to_channel(name=tracer_names[idx], initial_value=initial_value_tracers,\n",
    "                          scheme='upwind', decay_const=decay_consts[idx],\n",
    "                          boundary=boundary, phi=phi_tracer, rho=rho_tracer, source=fsrc, beta=beta[idx])\n",
    "\n",
    "# TRACER SETUP IN UPPER PLENUM\n",
    "for idx, name in enumerate(tracer_names):\n",
    "  upper_plenum.add_tracer_to_channel(name=tracer_names[idx], initial_value=0.0,\n",
    "                                     scheme='upwind', decay_const=decay_consts[idx],\n",
    "                                     boundary=boundary, phi=phi_tracer,rho=rho_tracer,source=0.0, beta=beta[idx])\n",
    "\n",
    "# TRACER SETUP IN EXTERNAL LOOP\n",
    "for idx, name in enumerate(tracer_names):\n",
    "  external_loop.add_tracer_to_channel(name=tracer_names[idx], initial_value=0.0,\n",
    "                                     scheme='upwind', decay_const=decay_consts[idx],\n",
    "                                     boundary=boundary, phi=phi_tracer,rho=rho_tracer,source=0.0, beta=beta[idx])\n",
    "\n",
    "# TRACER SETUP IN LOWER PLENUM\n",
    "for idx, name in enumerate(tracer_names):\n",
    "  lower_plenum.add_tracer_to_channel(name=tracer_names[idx], initial_value=0.0,\n",
    "                                     scheme='upwind', decay_const=decay_consts[idx],\n",
    "                                     boundary=boundary, phi=phi_tracer,rho=rho_tracer,source=0.0, beta=beta[idx])\n",
    "\n",
    "# TRACER SOLVE LOOP\n",
    "ch_inlet_value = phi_tracer\n",
    "while True:\n",
    "  ch.solve_all_tracers(_dt=1e321)\n",
    "  ch_to_up.update_interface_conditions(tracer_bool=True, th_bool=False)\n",
    "\n",
    "  upper_plenum.solve_all_tracers(_dt=1e321)\n",
    "  up_to_ex.update_interface_conditions(tracer_bool=True, th_bool=False)\n",
    "\n",
    "  external_loop.solve_all_tracers(_dt=1e321)\n",
    "  ex_to_lp.update_interface_conditions(tracer_bool=True, th_bool=False)\n",
    "\n",
    "  lower_plenum.solve_all_tracers(_dt=1e321)\n",
    "  lp_to_ch.update_interface_conditions(tracer_bool=True,th_bool=False)\n",
    "\n",
    "  diff = np.abs(ch_inlet_value - ch.tracers['c1'].T[0])\n",
    "  print(diff)\n",
    "  ch_inlet_value = ch.tracers['c1'].T[0]\n",
    "  if diff < 1e-12:\n",
    "    break\n",
    "\n",
    "\n"
   ]
  },
  {
   "cell_type": "code",
   "execution_count": 54,
   "id": "5df7c668",
   "metadata": {},
   "outputs": [
    {
     "data": {
      "text/plain": [
       "<matplotlib.legend.Legend at 0x7fcb046b5910>"
      ]
     },
     "execution_count": 54,
     "metadata": {},
     "output_type": "execute_result"
    },
    {
     "data": {
      "image/png": "[encoded data removed]",
      "text/plain": [
       "<Figure size 640x480 with 1 Axes>"
      ]
     },
     "metadata": {},
     "output_type": "display_data"
    }
   ],
   "source": [
    "for this in ch.tracers.keys():\n",
    "  plt.plot(ch.tracers[this].T, label=this)\n",
    "plt.legend()"
   ]
  },
  {
   "cell_type": "code",
   "execution_count": 55,
   "id": "48414eb2",
   "metadata": {},
   "outputs": [
    {
     "data": {
      "text/plain": [
       "[<matplotlib.lines.Line2D at 0x7fcb045107d0>]"
      ]
     },
     "execution_count": 55,
     "metadata": {},
     "output_type": "execute_result"
    },
    {
     "data": {
      "image/png": "[encoded data removed]",
      "text/plain": [
       "<Figure size 640x480 with 1 Axes>"
      ]
     },
     "metadata": {},
     "output_type": "display_data"
    }
   ],
   "source": [
    "tracer_name = 'c1'\n",
    "plt.plot(ch.tracers[tracer_name].T, 'k')\n",
    "plt.plot(upper_plenum.tracers[tracer_name].T, 'r')\n",
    "plt.plot(external_loop.tracers[tracer_name].T, 'b')\n",
    "plt.plot(lower_plenum.tracers[tracer_name].T, 'g')"
   ]
  },
  {
   "cell_type": "code",
   "execution_count": null,
   "id": "d9deee0e",
   "metadata": {},
   "outputs": [],
   "source": []
  },
  {
   "cell_type": "code",
   "execution_count": 56,
   "id": "847ef5fa",
   "metadata": {},
   "outputs": [
    {
     "ename": "TypeError",
     "evalue": "BasicSolver.solve() missing 1 required positional argument: '_dt'",
     "output_type": "error",
     "traceback": [
      "\u001b[0;31m---------------------------------------------------------------------------\u001b[0m",
      "\u001b[0;31mTypeError\u001b[0m                                 Traceback (most recent call last)",
      "Cell \u001b[0;32mIn[56], line 15\u001b[0m\n\u001b[1;32m     13\u001b[0m \u001b[38;5;66;03m# SOLVER\u001b[39;00m\n\u001b[1;32m     14\u001b[0m solver \u001b[38;5;241m=\u001b[39m BasicSolver(kernels\u001b[38;5;241m=\u001b[39m[c1_decay, c1_adv], bcs\u001b[38;5;241m=\u001b[39m[bc], field\u001b[38;5;241m=\u001b[39mc1)\n\u001b[0;32m---> 15\u001b[0m \u001b[43msolver\u001b[49m\u001b[38;5;241;43m.\u001b[39;49m\u001b[43msolve\u001b[49m\u001b[43m(\u001b[49m\u001b[43m)\u001b[49m\n\u001b[1;32m     17\u001b[0m \u001b[38;5;28mprint\u001b[39m(c1\u001b[38;5;241m.\u001b[39mT)\n",
      "\u001b[0;31mTypeError\u001b[0m: BasicSolver.solve() missing 1 required positional argument: '_dt'"
     ]
    }
   ],
   "source": [
    "### ADDED THESE TO TO CHANNEL CODE - NOW NEED TO INCORPORATE PASSING OF OUTGOING VALUES INTO CHANNEL.PY\n",
    "### IN GET_OUTLET_CONDITIONS() - AND - UPDATE_INTERFACE_CONDITIONS() SO THAT TRACERS ARE HANDLED SEAMLESSLY.\n",
    "# DNP EQUATION\n",
    "c1 = ScalarField(name='c1', initial_value=0.0, mesh=ch.mesh)\n",
    "\n",
    "# KERNELS\n",
    "c1_adv = AdvectionKernel(field=c1, mesh=ch.mesh, w=ch.velocity_faces, scheme='quick', rho=1.0)\n",
    "c1_decay = ImplicitReactionKernel(field=c1, mesh=ch.mesh,lam=0.05)\n",
    "\n",
    "# BCS\n",
    "bc = AdvectedInletFluxBC(field=c1, mesh=ch.mesh, boundary='lower', phi=1.0, w=ch.velocity_faces, rho=1.0)\n",
    "\n",
    "# SOLVER\n",
    "solver = BasicSolver(kernels=[c1_decay, c1_adv], bcs=[bc], field=c1)\n",
    "solver.solve()\n",
    "\n",
    "print(c1.T)\n"
   ]
  },
  {
   "cell_type": "code",
   "execution_count": null,
   "id": "cfd9d974",
   "metadata": {},
   "outputs": [],
   "source": [
    "ch.velocity_faces.T"
   ]
  },
  {
   "cell_type": "code",
   "execution_count": null,
   "id": "31cf6b6d",
   "metadata": {},
   "outputs": [],
   "source": [
    "ch.temp.T"
   ]
  },
  {
   "cell_type": "code",
   "execution_count": null,
   "id": "96792989",
   "metadata": {},
   "outputs": [],
   "source": [
    "# velocities at faces and at centroids\n",
    "plt.plot(ch.mesh.nodeCoords, ch.velocity_faces.T, 'k--s')\n",
    "plt.plot(ch.mesh.centroids, ch.mdot.T / ch.rho.T / ch.area, 'r--s')"
   ]
  },
  {
   "cell_type": "code",
   "execution_count": null,
   "id": "587a0d91",
   "metadata": {},
   "outputs": [],
   "source": [
    "external_loop.temp.T"
   ]
  },
  {
   "cell_type": "code",
   "execution_count": null,
   "id": "e98914d3",
   "metadata": {},
   "outputs": [],
   "source": [
    "ch.T_bc"
   ]
  },
  {
   "cell_type": "code",
   "execution_count": null,
   "id": "ddd2acb3",
   "metadata": {},
   "outputs": [],
   "source": [
    "ch.b_energy"
   ]
  },
  {
   "cell_type": "code",
   "execution_count": null,
   "id": "b36f5830",
   "metadata": {},
   "outputs": [],
   "source": [
    "ch.temp.T"
   ]
  },
  {
   "cell_type": "code",
   "execution_count": null,
   "id": "2c80701d",
   "metadata": {},
   "outputs": [],
   "source": [
    "np.pi * Dh**2 / 4"
   ]
  },
  {
   "cell_type": "code",
   "execution_count": null,
   "id": "d02a1b1f",
   "metadata": {},
   "outputs": [],
   "source": [
    "0.18*area*2200"
   ]
  },
  {
   "cell_type": "code",
   "execution_count": null,
   "id": "81947091",
   "metadata": {},
   "outputs": [],
   "source": [
    "ch.heat_source"
   ]
  },
  {
   "cell_type": "code",
   "execution_count": null,
   "id": "abf3975f",
   "metadata": {},
   "outputs": [],
   "source": [
    "ch.h.T"
   ]
  },
  {
   "cell_type": "code",
   "execution_count": null,
   "id": "775ec8c1",
   "metadata": {},
   "outputs": [],
   "source": [
    "ch.h_bc"
   ]
  }
 ],
 "metadata": {
  "kernelspec": {
   "display_name": "openmc-env",
   "language": "python",
   "name": "python3"
  },
  "language_info": {
   "codemirror_mode": {
    "name": "ipython",
    "version": 3
   },
   "file_extension": ".py",
   "mimetype": "text/x-python",
   "name": "python",
   "nbconvert_exporter": "python",
   "pygments_lexer": "ipython3",
   "version": "3.11.6"
  }
 },
 "nbformat": 4,
 "nbformat_minor": 5
}
