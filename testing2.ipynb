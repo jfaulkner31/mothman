{
 "cells": [
  {
   "cell_type": "code",
   "execution_count": 1,
   "id": "c333d12a",
   "metadata": {},
   "outputs": [],
   "source": [
    "import numpy as np\n",
    "from Meshing.Meshing import *\n",
    "from Fields.Fields import *\n",
    "from Kernels.Kernels import *\n",
    "from Solvers.Solvers import *\n",
    "from Subchannel.FluidRelation import FluidRelation\n",
    "from Subchannel.Channel import Channel\n",
    "from Subchannel.Channel import ChannelInterface\n",
    "\n"
   ]
  },
  {
   "cell_type": "code",
   "execution_count": null,
   "id": "e7eeccf6",
   "metadata": {},
   "outputs": [
    {
     "name": "stdout",
     "output_type": "stream",
     "text": [
      "Channel solved after 1 iterations!\n",
      "Channel solved after 2 iterations!\n",
      "Channel solved after 2 iterations!\n"
     ]
    }
   ],
   "source": [
    "gravity = 9.81\n",
    "Dh = 0.0158276279311347000000\n",
    "perim = 0.07267978843558340\n",
    "area = 0.000287587162368000000\n",
    "temp_tolerance = 1e-10\n",
    "max_temp_iterations = 1000\n",
    "nZones=50\n",
    "L0 = 0.0\n",
    "L1 = 1.74\n",
    "fluid = FluidRelation(cp=1983, mu=0.00744, k=1.44, rho_0 = 2715.13, drho_dT=-0.513)\n",
    "pressure_bc = 0.0\n",
    "T_bc = 900.0\n",
    "mdot_bc = 0.12292778 # Set to have a 9.1725 second residence time in the main core.\n",
    "fric = 'type1'\n",
    "_dt = 1e321\n",
    "heat_source = [0.0]*nZones # heat source in W/m3\n",
    "#################\n",
    "# CHANNEL SETUPS\n",
    "#################\n",
    "ch = Channel(gravity=gravity,\n",
    "             Dh=Dh,\n",
    "             area=area,\n",
    "             temp_tolerance=temp_tolerance,\n",
    "             max_temp_iterations=max_temp_iterations,\n",
    "             nZones=nZones,\n",
    "             L0=L0,\n",
    "             L1=L1,\n",
    "             fluid=fluid,\n",
    "             pressure_bc=pressure_bc,\n",
    "             T_bc=T_bc,\n",
    "             mdot_bc=mdot_bc,\n",
    "             fric=fric,\n",
    "             heat_source=heat_source)\n",
    "\n",
    "upper_plenum = Channel(gravity=gravity,\n",
    "                       Dh=Dh,\n",
    "                       area=1.5424651E-04,\n",
    "                       temp_tolerance=temp_tolerance,\n",
    "                       max_temp_iterations=max_temp_iterations,\n",
    "                       nZones=nZones,\n",
    "                       L0=0.0,\n",
    "                       L1=1.0,\n",
    "                       fluid=fluid,\n",
    "                       pressure_bc=pressure_bc,\n",
    "                       T_bc=1.0,\n",
    "                       mdot_bc=1.0,\n",
    "                       fric='none',\n",
    "                       heat_source=0.0)\n",
    "\n",
    "external_loop = Channel(gravity=gravity,\n",
    "                       Dh=Dh,\n",
    "                       area=1.0005305523E-03,\n",
    "                       temp_tolerance=temp_tolerance,\n",
    "                       max_temp_iterations=max_temp_iterations,\n",
    "                       nZones=nZones,\n",
    "                       L0=0.0,\n",
    "                       L1=1.0,\n",
    "                       fluid=fluid,\n",
    "                       pressure_bc=pressure_bc,\n",
    "                       T_bc=1.0,\n",
    "                       mdot_bc=1.0,\n",
    "                       fric='none',\n",
    "                       heat_source=0.0)\n",
    "\n",
    "lower_plenum = Channel(gravity=gravity,\n",
    "                       Dh=Dh,\n",
    "                       area=2.20816E-04,\n",
    "                       temp_tolerance=temp_tolerance,\n",
    "                       max_temp_iterations=max_temp_iterations,\n",
    "                       nZones=nZones,\n",
    "                       L0=0.0,\n",
    "                       L1=1.0,\n",
    "                       fluid=fluid,\n",
    "                       pressure_bc=pressure_bc,\n",
    "                       T_bc=1.0,\n",
    "                       mdot_bc=1.0,\n",
    "                       fric='none',\n",
    "                       heat_source=0.0)\n",
    "\n",
    "# Interfaces to handle data passing from one channel to another.\n",
    "ch_to_up = ChannelInterface(ch1=ch, ch2=upper_plenum)\n",
    "up_to_ex = ChannelInterface(ch1=upper_plenum, ch2=external_loop)\n",
    "ex_to_lp = ChannelInterface(ch1=external_loop, ch2=ch)\n",
    "lp_to_ch = ChannelInterface(ch1=lower_plenum, ch2=ch)\n",
    "\n",
    "# Solution order - main channel -> plenum -> external loop -> lower plenum -> main channel\n",
    "ch.solve_channel_TH(_dt=_dt)\n",
    "ch_to_up.update_interface_conditions(tracer_bool=False, th_bool=True)\n",
    "\n",
    "upper_plenum.solve_channel_TH(_dt=_dt)\n",
    "up_to_ex.update_interface_conditions(tracer_bool=False, th_bool=True)\n",
    "\n",
    "external_loop.solve_channel_TH(_dt=_dt)\n",
    "ex_to_lp.update_interface_conditions(tracer_bool=False, th_bool=True)\n",
    "\n",
    "lower_plenum.solve_channel_TH(_dt=_dt)\n",
    "lp_to_ch.update_interface_conditions(tracer_bool=False, th_bool=True)\n",
    "\n",
    "# End\n",
    "\n"
   ]
  },
  {
   "cell_type": "code",
   "execution_count": null,
   "id": "4bdb1c69",
   "metadata": {},
   "outputs": [
    {
     "name": "stdout",
     "output_type": "stream",
     "text": [
      "0.018850390785208226\n",
      "3.666048905884036\n",
      "2.954137449432957\n",
      "2.3804723543473383\n",
      "1.9182075061875246\n",
      "1.545710047871152\n",
      "1.2455480152084437\n",
      "1.0036745638849904\n",
      "0.8087706117223643\n",
      "0.6517151334929423\n",
      "0.5251583193894582\n",
      "0.4231776220168939\n",
      "0.3410005957519324\n",
      "0.27478155803455806\n",
      "0.22142162089016892\n",
      "0.17842367059968822\n",
      "0.14377550892399782\n",
      "0.11585568717917027\n",
      "0.09335762642896483\n",
      "0.07522847280660017\n",
      "0.06061982654541609\n",
      "0.048848038957821416\n",
      "0.03936221935967055\n",
      "0.03171845474196644\n",
      "0.02555903573490781\n",
      "0.020595716689626897\n",
      "0.016596226491447652\n",
      "0.01337339884334554\n",
      "0.010776413344061098\n",
      "0.008683737464359353\n",
      "0.00699743912400308\n",
      "0.005638603711279444\n",
      "0.004543641073400551\n",
      "0.003661309654177103\n",
      "0.0029503185148485045\n",
      "0.002377395020154438\n",
      "0.0019157277607000367\n",
      "0.0015437118451231413\n",
      "0.0012439378442188342\n",
      "0.0010023770726448333\n",
      "0.0008077250807829728\n",
      "0.0006508726346048377\n",
      "0.0005244794256853424\n",
      "0.00042263056297997537\n",
      "0.00034055977030078566\n",
      "0.00027442633663099514\n",
      "0.00022113538006607314\n",
      "0.0001781930150244193\n",
      "0.00014358964444838307\n",
      "0.00011570591578546896\n",
      "9.323693918261711e-05\n",
      "7.513122187674526e-05\n",
      "6.054146080103351e-05\n",
      "4.8784891099273864e-05\n",
      "3.9311334216307614e-05\n",
      "3.1677451001854706e-05\n",
      "2.552599453053972e-05\n",
      "2.0569091777389303e-05\n",
      "1.657477185901257e-05\n",
      "1.3356110500239993e-05\n",
      "1.0762482236970072e-05\n",
      "8.672511643936787e-06\n",
      "6.988393245421776e-06\n",
      "5.631314451193248e-06\n",
      "4.537767324563902e-06\n",
      "3.656576538446643e-06\n",
      "2.946504515932702e-06\n",
      "2.3743216459592986e-06\n",
      "1.913251225005297e-06\n",
      "1.5417162053665834e-06\n",
      "1.2423297590657967e-06\n",
      "1.001081262330672e-06\n",
      "8.066809087381444e-07\n",
      "6.500312430546273e-07\n",
      "5.238014146868863e-07\n",
      "4.22084202256201e-07\n",
      "3.401195094454579e-07\n",
      "2.740715565607843e-07\n",
      "2.208495075706196e-07\n",
      "1.7796263662717138e-07\n",
      "1.434040157732852e-07\n",
      "1.1555636092452914e-07\n",
      "9.311639814768569e-08\n",
      "7.503410515141695e-08\n",
      "6.046319356300955e-08\n",
      "4.872181946780074e-08\n",
      "3.926051306279987e-08\n",
      "3.1636513853072756e-08\n",
      "2.549298372400699e-08\n",
      "2.0542501033560256e-08\n",
      "1.655334713746015e-08\n",
      "1.3338862459022494e-08\n",
      "1.074857536309537e-08\n",
      "8.661277917099142e-09\n",
      "6.979345101854051e-09\n",
      "5.6240416768105206e-09\n",
      "4.53189841209678e-09\n",
      "3.6518628121484653e-09\n",
      "2.942694976582061e-09\n",
      "2.371262297629073e-09\n",
      "1.910780866865025e-09\n",
      "1.5397212393963855e-09\n",
      "1.240714198047499e-09\n",
      "9.997904726333218e-10\n",
      "8.056488809415896e-10\n",
      "6.492015813819307e-10\n",
      "5.231122202076222e-10\n",
      "4.2155079427175224e-10\n",
      "3.396998238258675e-10\n",
      "2.737259308105422e-10\n",
      "2.205595706072927e-10\n",
      "1.7772094906831626e-10\n",
      "1.432169938198058e-10\n",
      "1.1541345656951307e-10\n",
      "9.299228054260311e-11\n",
      "7.493738962693897e-11\n",
      "6.037481625753571e-11\n",
      "4.865441383117286e-11\n",
      "3.921130087292113e-11\n",
      "3.1590730031894054e-11\n",
      "2.5444535367569188e-11\n",
      "2.0531132349788095e-11\n",
      "1.653077674745873e-11\n",
      "1.3322676295501878e-11\n",
      "1.0743406164692715e-11\n",
      "8.64730509420042e-12\n",
      "6.945555242054979e-12\n",
      "5.6061821851471905e-12\n",
      "4.508393658397836e-12\n",
      "3.6415315207705135e-12\n",
      "2.9416469260468148e-12\n",
      "2.369660023759934e-12\n",
      "1.900701818158268e-12\n",
      "1.5560885913146194e-12\n",
      "1.2541079286165768e-12\n",
      "1.0125233984581428e-12\n",
      "8.313350008393172e-13\n"
     ]
    }
   ],
   "source": [
    "tracer_names = ['c1', 'c2', 'c3', 'c4', 'c5', 'c6']\n",
    "initial_value_tracers = 0.0\n",
    "scheme_tracers = 'upwind'\n",
    "decay_consts = [0.0001, 0.10, 0.15, 0.20, 0.25, 0.30]\n",
    "beta = [1.0,1.0,1.0,1.0,1.0,1.0]\n",
    "boundary = 'lower' # must be lower anyways\n",
    "phi_tracer = 1.0\n",
    "rho_tracer = 1.0\n",
    "fsrc = np.sin(np.pi * np.array(ch.mesh.centroids) / L1)\n",
    "\n",
    "# TRACER SETUP IN MAIN CHANNEL\n",
    "for idx, name in enumerate(tracer_names):\n",
    "  ch.add_tracer_to_channel(name=tracer_names[idx], initial_value=initial_value_tracers,\n",
    "                          scheme='upwind', decay_const=decay_consts[idx],\n",
    "                          boundary=boundary, phi=phi_tracer, rho=rho_tracer, source=fsrc, beta=beta[idx])\n",
    "\n",
    "# TRACER SETUP IN UPPER PLENUM\n",
    "for idx, name in enumerate(tracer_names):\n",
    "  upper_plenum.add_tracer_to_channel(name=tracer_names[idx], initial_value=0.0,\n",
    "                                     scheme='upwind', decay_const=decay_consts[idx],\n",
    "                                     boundary=boundary, phi=phi_tracer,rho=rho_tracer,source=0.0, beta=beta[idx])\n",
    "\n",
    "# TRACER SETUP IN EXTERNAL LOOP\n",
    "for idx, name in enumerate(tracer_names):\n",
    "  external_loop.add_tracer_to_channel(name=tracer_names[idx], initial_value=0.0,\n",
    "                                     scheme='upwind', decay_const=decay_consts[idx],\n",
    "                                     boundary=boundary, phi=phi_tracer,rho=rho_tracer,source=0.0, beta=beta[idx])\n",
    "\n",
    "# TRACER SOLVE LOOP\n",
    "ch_inlet_value = phi_tracer\n",
    "while True:\n",
    "  ch.solve_all_tracers(_dt=1e321)\n",
    "  ch_to_up.update_interface_conditions(tracer_bool=True, th_bool=False)\n",
    "\n",
    "  upper_plenum.solve_all_tracers(_dt=1e321)\n",
    "  up_to_ex.update_interface_conditions(tracer_bool=True, th_bool=False)\n",
    "\n",
    "  external_loop.solve_all_tracers(_dt=1e321)\n",
    "  ex_to_lp.update_interface_conditions(tracer_bool=True, th_bool=False)\n",
    "\n",
    "  lower_plenum.solve_all_tracers(_dt=1e321)\n",
    "  lp_to_ch.update_interface_conditions(tracer_bool=True,th_bool=False)\n",
    "\n",
    "  diff = np.abs(ch_inlet_value - ch.tracers['c1'].T[0])\n",
    "  print(diff)\n",
    "  ch_inlet_value = ch.tracers['c1'].T[0]\n",
    "  if diff < 1e-12:\n",
    "    break\n",
    "\n",
    "\n"
   ]
  },
  {
   "cell_type": "code",
   "execution_count": 30,
   "id": "5df7c668",
   "metadata": {},
   "outputs": [
    {
     "data": {
      "image/png": "[encoded data removed]",
      "text/plain": [
       "<Figure size 640x480 with 1 Axes>"
      ]
     },
     "metadata": {},
     "output_type": "display_data"
    }
   ],
   "source": [
    "for this in ch.tracers.keys():\n",
    "  plt.plot(ch.tracers[this].T)"
   ]
  },
  {
   "cell_type": "code",
   "execution_count": null,
   "id": "48414eb2",
   "metadata": {},
   "outputs": [],
   "source": []
  },
  {
   "cell_type": "code",
   "execution_count": null,
   "id": "d9deee0e",
   "metadata": {},
   "outputs": [],
   "source": []
  },
  {
   "cell_type": "code",
   "execution_count": 5,
   "id": "847ef5fa",
   "metadata": {},
   "outputs": [
    {
     "name": "stdout",
     "output_type": "stream",
     "text": [
      "[0.98918387 0.97836738 0.96438001 0.95008421 0.93592148 0.92195763\n",
      " 0.90820022 0.89464781 0.88129756 0.86814658 0.85519172 0.84243045\n",
      " 0.82985901 0.81747646 0.80527586 0.7932635  0.78141691 0.76977649\n",
      " 0.7582457  0.74702668 0.73567046 0.72514787 0.71333418 0.7048542\n",
      " 0.68961642]\n"
     ]
    }
   ],
   "source": [
    "### ADDED THESE TO TO CHANNEL CODE - NOW NEED TO INCORPORATE PASSING OF OUTGOING VALUES INTO CHANNEL.PY\n",
    "### IN GET_OUTLET_CONDITIONS() - AND - UPDATE_INTERFACE_CONDITIONS() SO THAT TRACERS ARE HANDLED SEAMLESSLY.\n",
    "# DNP EQUATION\n",
    "c1 = ScalarField(name='c1', initial_value=0.0, mesh=ch.mesh)\n",
    "\n",
    "# KERNELS\n",
    "c1_adv = AdvectionKernel(field=c1, mesh=ch.mesh, w=ch.velocity_faces, scheme='quick', rho=1.0)\n",
    "c1_decay = ImplicitReactionKernel(field=c1, mesh=ch.mesh,lam=0.05)\n",
    "\n",
    "# BCS\n",
    "bc = AdvectedInletFluxBC(field=c1, mesh=ch.mesh, boundary='lower', phi=1.0, w=ch.velocity_faces, rho=1.0)\n",
    "\n",
    "# SOLVER\n",
    "solver = BasicSolver(kernels=[c1_decay, c1_adv], bcs=[bc], field=c1)\n",
    "solver.solve()\n",
    "\n",
    "print(c1.T)\n"
   ]
  },
  {
   "cell_type": "code",
   "execution_count": 6,
   "id": "cfd9d974",
   "metadata": {},
   "outputs": [
    {
     "data": {
      "text/plain": [
       "array([0.23146093, 0.23146093, 0.23146093, 0.23146093, 0.23146093,\n",
       "       0.23146093, 0.23146093, 0.23146093, 0.23146093, 0.23146093,\n",
       "       0.23146093, 0.23146093, 0.23146093, 0.23146093, 0.23146093,\n",
       "       0.23146093, 0.23146093, 0.23146093, 0.23146093, 0.23146093,\n",
       "       0.23146093, 0.23146093, 0.23146093, 0.23146093, 0.23146093,\n",
       "       0.23146093])"
      ]
     },
     "execution_count": 6,
     "metadata": {},
     "output_type": "execute_result"
    }
   ],
   "source": [
    "ch.velocity_faces.T"
   ]
  },
  {
   "cell_type": "code",
   "execution_count": 7,
   "id": "31cf6b6d",
   "metadata": {},
   "outputs": [
    {
     "data": {
      "text/plain": [
       "array([900., 900., 900., 900., 900., 900., 900., 900., 900., 900., 900.,\n",
       "       900., 900., 900., 900., 900., 900., 900., 900., 900., 900., 900.,\n",
       "       900., 900., 900.])"
      ]
     },
     "execution_count": 7,
     "metadata": {},
     "output_type": "execute_result"
    }
   ],
   "source": [
    "ch.temp.T"
   ]
  },
  {
   "cell_type": "code",
   "execution_count": 8,
   "id": "96792989",
   "metadata": {},
   "outputs": [
    {
     "data": {
      "text/plain": [
       "[<matplotlib.lines.Line2D at 0x7efd0d534980>]"
      ]
     },
     "execution_count": 8,
     "metadata": {},
     "output_type": "execute_result"
    },
    {
     "data": {
      "image/png": "[encoded data removed]",
      "text/plain": [
       "<Figure size 640x480 with 1 Axes>"
      ]
     },
     "metadata": {},
     "output_type": "display_data"
    }
   ],
   "source": [
    "# velocities at faces and at centroids\n",
    "plt.plot(ch.mesh.nodeCoords, ch.velocity_faces.T, 'k--s')\n",
    "plt.plot(ch.mesh.centroids, ch.mdot.T / ch.rho.T / ch.area, 'r--s')"
   ]
  },
  {
   "cell_type": "code",
   "execution_count": 9,
   "id": "587a0d91",
   "metadata": {},
   "outputs": [
    {
     "data": {
      "text/plain": [
       "array([900., 900., 900., 900., 900., 900., 900., 900., 900., 900., 900.,\n",
       "       900., 900., 900., 900., 900., 900., 900., 900., 900., 900., 900.,\n",
       "       900., 900., 900.])"
      ]
     },
     "execution_count": 9,
     "metadata": {},
     "output_type": "execute_result"
    }
   ],
   "source": [
    "external_loop.temp.T"
   ]
  },
  {
   "cell_type": "code",
   "execution_count": 10,
   "id": "e98914d3",
   "metadata": {},
   "outputs": [
    {
     "data": {
      "text/plain": [
       "np.float64(899.9999999999997)"
      ]
     },
     "execution_count": 10,
     "metadata": {},
     "output_type": "execute_result"
    }
   ],
   "source": [
    "ch.T_bc"
   ]
  },
  {
   "cell_type": "code",
   "execution_count": 11,
   "id": "ddd2acb3",
   "metadata": {},
   "outputs": [
    {
     "data": {
      "text/plain": [
       "array([3846336.20689655,       0.        ,       0.        ,\n",
       "             0.        ,       0.        ,       0.        ,\n",
       "             0.        ,       0.        ,       0.        ,\n",
       "             0.        ,       0.        ,       0.        ,\n",
       "             0.        ,       0.        ,       0.        ,\n",
       "             0.        ,       0.        ,       0.        ,\n",
       "             0.        ,       0.        ,       0.        ,\n",
       "             0.        ,       0.        ,       0.        ,\n",
       "             0.        ])"
      ]
     },
     "execution_count": 11,
     "metadata": {},
     "output_type": "execute_result"
    }
   ],
   "source": [
    "ch.b_energy"
   ]
  },
  {
   "cell_type": "code",
   "execution_count": 12,
   "id": "b36f5830",
   "metadata": {},
   "outputs": [
    {
     "data": {
      "text/plain": [
       "array([900., 900., 900., 900., 900., 900., 900., 900., 900., 900., 900.,\n",
       "       900., 900., 900., 900., 900., 900., 900., 900., 900., 900., 900.,\n",
       "       900., 900., 900.])"
      ]
     },
     "execution_count": 12,
     "metadata": {},
     "output_type": "execute_result"
    }
   ],
   "source": [
    "ch.temp.T"
   ]
  },
  {
   "cell_type": "code",
   "execution_count": 13,
   "id": "2c80701d",
   "metadata": {},
   "outputs": [
    {
     "data": {
      "text/plain": [
       "0.00019675308308032713"
      ]
     },
     "execution_count": 13,
     "metadata": {},
     "output_type": "execute_result"
    }
   ],
   "source": [
    "np.pi * Dh**2 / 4"
   ]
  },
  {
   "cell_type": "code",
   "execution_count": 14,
   "id": "d02a1b1f",
   "metadata": {},
   "outputs": [
    {
     "data": {
      "text/plain": [
       "0.113884516297728"
      ]
     },
     "execution_count": 14,
     "metadata": {},
     "output_type": "execute_result"
    }
   ],
   "source": [
    "0.18*area*2200"
   ]
  },
  {
   "cell_type": "code",
   "execution_count": 15,
   "id": "81947091",
   "metadata": {},
   "outputs": [
    {
     "data": {
      "text/plain": [
       "[0.0,\n",
       " 0.0,\n",
       " 0.0,\n",
       " 0.0,\n",
       " 0.0,\n",
       " 0.0,\n",
       " 0.0,\n",
       " 0.0,\n",
       " 0.0,\n",
       " 0.0,\n",
       " 0.0,\n",
       " 0.0,\n",
       " 0.0,\n",
       " 0.0,\n",
       " 0.0,\n",
       " 0.0,\n",
       " 0.0,\n",
       " 0.0,\n",
       " 0.0,\n",
       " 0.0,\n",
       " 0.0,\n",
       " 0.0,\n",
       " 0.0,\n",
       " 0.0,\n",
       " 0.0]"
      ]
     },
     "execution_count": 15,
     "metadata": {},
     "output_type": "execute_result"
    }
   ],
   "source": [
    "ch.heat_source"
   ]
  },
  {
   "cell_type": "code",
   "execution_count": 16,
   "id": "abf3975f",
   "metadata": {},
   "outputs": [
    {
     "data": {
      "text/plain": [
       "array([1784700., 1784700., 1784700., 1784700., 1784700., 1784700.,\n",
       "       1784700., 1784700., 1784700., 1784700., 1784700., 1784700.,\n",
       "       1784700., 1784700., 1784700., 1784700., 1784700., 1784700.,\n",
       "       1784700., 1784700., 1784700., 1784700., 1784700., 1784700.,\n",
       "       1784700.])"
      ]
     },
     "execution_count": 16,
     "metadata": {},
     "output_type": "execute_result"
    }
   ],
   "source": [
    "ch.h.T"
   ]
  },
  {
   "cell_type": "code",
   "execution_count": 17,
   "id": "775ec8c1",
   "metadata": {},
   "outputs": [
    {
     "data": {
      "text/plain": [
       "np.float64(1784699.9999999993)"
      ]
     },
     "execution_count": 17,
     "metadata": {},
     "output_type": "execute_result"
    }
   ],
   "source": [
    "ch.h_bc"
   ]
  }
 ],
 "metadata": {
  "kernelspec": {
   "display_name": "openmc-env",
   "language": "python",
   "name": "python3"
  },
  "language_info": {
   "codemirror_mode": {
    "name": "ipython",
    "version": 3
   },
   "file_extension": ".py",
   "mimetype": "text/x-python",
   "name": "python",
   "nbconvert_exporter": "python",
   "pygments_lexer": "ipython3",
   "version": "3.12.8"
  }
 },
 "nbformat": 4,
 "nbformat_minor": 5
}
