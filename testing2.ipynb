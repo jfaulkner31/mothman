{
 "cells": [
  {
   "cell_type": "code",
   "execution_count": 3,
   "id": "c333d12a",
   "metadata": {},
   "outputs": [],
   "source": [
    "import numpy as np\n",
    "from Meshing.Meshing import *\n",
    "from Fields.Fields import *\n",
    "from Kernels.Kernels import *\n",
    "from Solvers.Solvers import *\n",
    "from Subchannel.FluidRelation import FluidRelation\n",
    "from Subchannel.Channel import Channel\n",
    "from Subchannel.Channel import ChannelInterface\n",
    "\n"
   ]
  },
  {
   "cell_type": "code",
   "execution_count": 4,
   "id": "e7eeccf6",
   "metadata": {},
   "outputs": [
    {
     "name": "stdout",
     "output_type": "stream",
     "text": [
      "Channel solved after 1 iterations!\n",
      "Channel solved after 2 iterations!\n",
      "Channel solved after 2 iterations!\n"
     ]
    }
   ],
   "source": [
    "gravity = 9.81\n",
    "Dh = 0.0158276279311347000000\n",
    "perim = 0.07267978843558340\n",
    "area = 0.000287587162368000000\n",
    "temp_tolerance = 1e-10\n",
    "max_temp_iterations = 1000\n",
    "nZones=25\n",
    "L0 = 0.0\n",
    "L1 = 1.74\n",
    "fluid = FluidRelation(cp=1983, mu=0.00744, k=1.44, rho_0 = 2715.13, drho_dT=-0.513)\n",
    "pressure_bc = 0.0\n",
    "T_bc = 900.0\n",
    "mdot_bc = 0.15\n",
    "fric = 'type1'\n",
    "_dt = 1e321\n",
    "heat_source = [0.0]*nZones # heat source in W/m3\n",
    "#################\n",
    "# CHANNEL SETUPS\n",
    "#################\n",
    "ch = Channel(gravity=gravity,\n",
    "             Dh=Dh,\n",
    "             area=area,\n",
    "             temp_tolerance=temp_tolerance,\n",
    "             max_temp_iterations=max_temp_iterations,\n",
    "             nZones=nZones,\n",
    "             L0=L0,\n",
    "             L1=L1,\n",
    "             fluid=fluid,\n",
    "             pressure_bc=pressure_bc,\n",
    "             T_bc=T_bc,\n",
    "             mdot_bc=mdot_bc,\n",
    "             fric=fric,\n",
    "             heat_source=heat_source)\n",
    "\n",
    "upper_plenum = Channel(gravity=gravity,\n",
    "                       Dh=Dh,\n",
    "                       area=area,\n",
    "                       temp_tolerance=temp_tolerance,\n",
    "                       max_temp_iterations=max_temp_iterations,\n",
    "                       nZones=nZones,\n",
    "                       L0=0,\n",
    "                       L1=0.15,\n",
    "                       fluid=fluid,\n",
    "                       pressure_bc=pressure_bc,\n",
    "                       T_bc=1.0,\n",
    "                       mdot_bc=1.0,\n",
    "                       fric='none',\n",
    "                       heat_source=0.0)\n",
    "\n",
    "external_loop = Channel(gravity=gravity,\n",
    "                       Dh=Dh,\n",
    "                       area=area*100,\n",
    "                       temp_tolerance=temp_tolerance,\n",
    "                       max_temp_iterations=max_temp_iterations,\n",
    "                       nZones=nZones,\n",
    "                       L0=0,\n",
    "                       L1=5.0,\n",
    "                       fluid=fluid,\n",
    "                       pressure_bc=pressure_bc,\n",
    "                       T_bc=1.0,\n",
    "                       mdot_bc=1.0,\n",
    "                       fric='none',\n",
    "                       heat_source=0.0)\n",
    "\n",
    "\n",
    "# Interfaces to handle data passing from one channel to another.\n",
    "ch_to_plenum = ChannelInterface(ch1=ch, ch2=upper_plenum)\n",
    "plenum_to_ex = ChannelInterface(ch1=upper_plenum, ch2=external_loop)\n",
    "ex_to_ch = ChannelInterface(ch1=external_loop, ch2=ch)\n",
    "\n",
    "# Solution order - main channel -> plenum -> external loop -> channel\n",
    "ch.solve_channel_TH(_dt=_dt)\n",
    "ch_to_plenum.update_interface_conditions()\n",
    "\n",
    "upper_plenum.solve_channel_TH(_dt=_dt)\n",
    "plenum_to_ex.update_interface_conditions()\n",
    "\n",
    "external_loop.solve_channel_TH(_dt=_dt)\n",
    "ex_to_ch.update_interface_conditions()\n",
    "\n",
    "\n",
    "\n",
    "# End\n",
    "\n"
   ]
  },
  {
   "cell_type": "code",
   "execution_count": null,
   "id": "4bdb1c69",
   "metadata": {},
   "outputs": [
    {
     "ename": "AttributeError",
     "evalue": "'list' object has no attribute 'phi'",
     "output_type": "error",
     "traceback": [
      "\u001b[0;31m---------------------------------------------------------------------------\u001b[0m",
      "\u001b[0;31mAttributeError\u001b[0m                            Traceback (most recent call last)",
      "Cell \u001b[0;32mIn[5], line 14\u001b[0m\n\u001b[1;32m      8\u001b[0m fsrc \u001b[38;5;241m=\u001b[39m \u001b[38;5;241m0.0\u001b[39m\n\u001b[1;32m     11\u001b[0m ch\u001b[38;5;241m.\u001b[39madd_tracer_to_channel(name\u001b[38;5;241m=\u001b[39mtracer_names[\u001b[38;5;241m0\u001b[39m], initial_value\u001b[38;5;241m=\u001b[39minitial_value_tracers,\n\u001b[1;32m     12\u001b[0m                          scheme\u001b[38;5;241m=\u001b[39m\u001b[38;5;124m'\u001b[39m\u001b[38;5;124mupwind\u001b[39m\u001b[38;5;124m'\u001b[39m, decay_const\u001b[38;5;241m=\u001b[39mdecay_consts[\u001b[38;5;241m0\u001b[39m],\n\u001b[1;32m     13\u001b[0m                          boundary\u001b[38;5;241m=\u001b[39mboundary, phi\u001b[38;5;241m=\u001b[39mphi_tracer, rho\u001b[38;5;241m=\u001b[39mrho_tracer, source\u001b[38;5;241m=\u001b[39mfsrc)\n\u001b[0;32m---> 14\u001b[0m \u001b[43mch\u001b[49m\u001b[38;5;241;43m.\u001b[39;49m\u001b[43msolve_all_tracers\u001b[49m\u001b[43m(\u001b[49m\u001b[43m_dt\u001b[49m\u001b[38;5;241;43m=\u001b[39;49m\u001b[38;5;241;43m1e321\u001b[39;49m\u001b[43m)\u001b[49m\n",
      "File \u001b[0;32m~/projects/mothman/Subchannel/Channel.py:140\u001b[0m, in \u001b[0;36mChannel.solve_all_tracers\u001b[0;34m(self, _dt)\u001b[0m\n\u001b[1;32m    138\u001b[0m \u001b[38;5;28;01mdef\u001b[39;00m \u001b[38;5;21msolve_all_tracers\u001b[39m(\u001b[38;5;28mself\u001b[39m, _dt: \u001b[38;5;28mfloat\u001b[39m):\n\u001b[1;32m    139\u001b[0m   \u001b[38;5;28;01mfor\u001b[39;00m tracer_name \u001b[38;5;129;01min\u001b[39;00m \u001b[38;5;28mself\u001b[39m\u001b[38;5;241m.\u001b[39mtracers\u001b[38;5;241m.\u001b[39mkeys():\n\u001b[0;32m--> 140\u001b[0m     \u001b[38;5;28;43mself\u001b[39;49m\u001b[38;5;241;43m.\u001b[39;49m\u001b[43msolve_tracer\u001b[49m\u001b[43m(\u001b[49m\u001b[43mname\u001b[49m\u001b[38;5;241;43m=\u001b[39;49m\u001b[43mtracer_name\u001b[49m\u001b[43m,\u001b[49m\u001b[43m \u001b[49m\u001b[43m_dt\u001b[49m\u001b[38;5;241;43m=\u001b[39;49m\u001b[43m_dt\u001b[49m\u001b[43m)\u001b[49m\n",
      "File \u001b[0;32m~/projects/mothman/Subchannel/Channel.py:135\u001b[0m, in \u001b[0;36mChannel.solve_tracer\u001b[0;34m(self, name, _dt)\u001b[0m\n\u001b[1;32m    132\u001b[0m solver\u001b[38;5;241m.\u001b[39msolve()\n\u001b[1;32m    134\u001b[0m \u001b[38;5;66;03m# Update channel conditions dictionary at the inlet and outlet.\u001b[39;00m\n\u001b[0;32m--> 135\u001b[0m \u001b[38;5;28mself\u001b[39m\u001b[38;5;241m.\u001b[39mchannel_conditions[\u001b[38;5;124m'\u001b[39m\u001b[38;5;124mtracers_in\u001b[39m\u001b[38;5;124m'\u001b[39m][name] \u001b[38;5;241m=\u001b[39m \u001b[38;5;28;43mself\u001b[39;49m\u001b[38;5;241;43m.\u001b[39;49m\u001b[43mtracer_bcs\u001b[49m\u001b[43m[\u001b[49m\u001b[43mname\u001b[49m\u001b[43m]\u001b[49m\u001b[38;5;241;43m.\u001b[39;49m\u001b[43mphi\u001b[49m \u001b[38;5;66;03m# inlet value from BC\u001b[39;00m\n\u001b[1;32m    136\u001b[0m \u001b[38;5;28mself\u001b[39m\u001b[38;5;241m.\u001b[39mchannel_conditions[\u001b[38;5;124m'\u001b[39m\u001b[38;5;124mtracers_out\u001b[39m\u001b[38;5;124m'\u001b[39m][name] \u001b[38;5;241m=\u001b[39m \u001b[38;5;28mself\u001b[39m\u001b[38;5;241m.\u001b[39mtracers[name]\u001b[38;5;241m.\u001b[39mT[\u001b[38;5;241m-\u001b[39m\u001b[38;5;241m1\u001b[39m]\n",
      "\u001b[0;31mAttributeError\u001b[0m: 'list' object has no attribute 'phi'"
     ]
    }
   ],
   "source": [
    "tracer_names = ['c1', 'c2', 'c3', 'c4', 'c5', 'c6']\n",
    "initial_value_tracers = 0.0\n",
    "scheme_tracers = 'upwind'\n",
    "decay_consts = [0.05, 0.10, 0.15, 0.20, 0.25, 0.30]\n",
    "boundary = 'lower' # must be lower anyways\n",
    "phi_tracer = 1.0\n",
    "rho_tracer = 1.0\n",
    "fsrc = 0.0\n",
    "#### NEW STUFFs\n",
    "\n",
    "ch.add_tracer_to_channel(name=tracer_names[0], initial_value=initial_value_tracers,\n",
    "                         scheme='upwind', decay_const=decay_consts[0],\n",
    "                         boundary=boundary, phi=phi_tracer, rho=rho_tracer, source=fsrc)\n",
    "ch.solve_all_tracers(_dt=1e321)"
   ]
  },
  {
   "cell_type": "code",
   "execution_count": null,
   "id": "847ef5fa",
   "metadata": {},
   "outputs": [],
   "source": [
    "### ADDED THESE TO TO CHANNEL CODE - NOW NEED TO INCORPORATE PASSING OF OUTGOING VALUES INTO CHANNEL.PY\n",
    "### IN GET_OUTLET_CONDITIONS() - AND - UPDATE_INTERFACE_CONDITIONS() SO THAT TRACERS ARE HANDLED SEAMLESSLY.\n",
    "# DNP EQUATION\n",
    "c1 = ScalarField(name='c1', initial_value=0.0, mesh=ch.mesh)\n",
    "\n",
    "# KERNELS\n",
    "c1_adv = AdvectionKernel(field=c1, mesh=ch.mesh, w=ch.velocity_faces, scheme='quick', rho=1.0)\n",
    "c1_decay = ImplicitReactionKernel(field=c1, mesh=ch.mesh,lam=0.5)\n",
    "\n",
    "# BCS\n",
    "bc = AdvectedInletFluxBC(field=c1, mesh=ch.mesh, boundary='lower', phi=1.0, w=ch.velocity_faces, rho=1.0)\n",
    "\n",
    "# SOLVER\n",
    "solver = BasicSolver(kernels=[c1_decay, c1_adv], bcs=[bc], field=c1)\n",
    "solver.solve()\n",
    "\n",
    "print(c1.T)\n"
   ]
  },
  {
   "cell_type": "code",
   "execution_count": null,
   "id": "cfd9d974",
   "metadata": {},
   "outputs": [],
   "source": [
    "ch.velocity_faces.T"
   ]
  },
  {
   "cell_type": "code",
   "execution_count": null,
   "id": "31cf6b6d",
   "metadata": {},
   "outputs": [],
   "source": [
    "ch.temp.T"
   ]
  },
  {
   "cell_type": "code",
   "execution_count": null,
   "id": "96792989",
   "metadata": {},
   "outputs": [],
   "source": [
    "# velocities at faces and at centroids\n",
    "plt.plot(ch.mesh.nodeCoords, ch.velocity_faces.T, 'k--s')\n",
    "plt.plot(ch.mesh.centroids, ch.mdot.T / ch.rho.T / ch.area, 'r--s')"
   ]
  },
  {
   "cell_type": "code",
   "execution_count": null,
   "id": "587a0d91",
   "metadata": {},
   "outputs": [],
   "source": [
    "external_loop.temp.T"
   ]
  },
  {
   "cell_type": "code",
   "execution_count": null,
   "id": "e98914d3",
   "metadata": {},
   "outputs": [],
   "source": [
    "ch.T_bc"
   ]
  },
  {
   "cell_type": "code",
   "execution_count": null,
   "id": "ddd2acb3",
   "metadata": {},
   "outputs": [],
   "source": [
    "ch.b_energy"
   ]
  },
  {
   "cell_type": "code",
   "execution_count": null,
   "id": "b36f5830",
   "metadata": {},
   "outputs": [],
   "source": [
    "ch.temp.T"
   ]
  },
  {
   "cell_type": "code",
   "execution_count": null,
   "id": "2c80701d",
   "metadata": {},
   "outputs": [],
   "source": [
    "np.pi * Dh**2 / 4"
   ]
  },
  {
   "cell_type": "code",
   "execution_count": null,
   "id": "d02a1b1f",
   "metadata": {},
   "outputs": [],
   "source": [
    "0.18*area*2200"
   ]
  },
  {
   "cell_type": "code",
   "execution_count": null,
   "id": "81947091",
   "metadata": {},
   "outputs": [],
   "source": [
    "ch.heat_source"
   ]
  },
  {
   "cell_type": "code",
   "execution_count": null,
   "id": "abf3975f",
   "metadata": {},
   "outputs": [],
   "source": [
    "ch.h.T"
   ]
  },
  {
   "cell_type": "code",
   "execution_count": null,
   "id": "775ec8c1",
   "metadata": {},
   "outputs": [],
   "source": [
    "ch.h_bc"
   ]
  }
 ],
 "metadata": {
  "kernelspec": {
   "display_name": "openmc-env",
   "language": "python",
   "name": "python3"
  },
  "language_info": {
   "codemirror_mode": {
    "name": "ipython",
    "version": 3
   },
   "file_extension": ".py",
   "mimetype": "text/x-python",
   "name": "python",
   "nbconvert_exporter": "python",
   "pygments_lexer": "ipython3",
   "version": "3.11.6"
  }
 },
 "nbformat": 4,
 "nbformat_minor": 5
}
