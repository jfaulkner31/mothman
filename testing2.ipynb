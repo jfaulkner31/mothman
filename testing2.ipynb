{
 "cells": [
  {
   "cell_type": "code",
   "execution_count": 1,
   "id": "c333d12a",
   "metadata": {},
   "outputs": [],
   "source": [
    "import numpy as np\n",
    "from Meshing.Meshing import *\n",
    "from Fields.Fields import *\n",
    "from Kernels.Kernels import *\n",
    "from Solvers.Solvers import *"
   ]
  },
  {
   "cell_type": "code",
   "execution_count": 11,
   "id": "5caceaaf",
   "metadata": {},
   "outputs": [
    {
     "data": {
      "text/plain": [
       "array([1., 1., 1., 1.])"
      ]
     },
     "execution_count": 11,
     "metadata": {},
     "output_type": "execute_result"
    }
   ],
   "source": [
    "# initial parameters / user input\n",
    "nZones = 5\n",
    "areas = [1]*nZones\n",
    "L0 = 0\n",
    "L1 = 1\n",
    "coords = np.linspace(L0,L1,nZones)\n",
    "\n",
    "# time delta t\n",
    "_dt = 1e321\n",
    "\n",
    "# initial values\n",
    "pressure_initial = 0.0\n",
    "mdot_initial = 1.0\n",
    "h_initial = 1.0\n",
    "rho_initial = 1.0\n",
    "\n",
    "# BCs\n",
    "mdot_bc = 1.0\n",
    "pressure_bc = 0.0\n",
    "h_bc = 1.0\n",
    "rho_bc = 1.0\n",
    "\n",
    "\n",
    "# Make a mesh\n",
    "mesh = Mesh_1D(nodeCoords=coords, faceAreas=areas)\n",
    "\n",
    "# Make fields for each variable\n",
    "pressure = ScalarField(name='P', initial_value=pressure_initial, mesh=mesh)\n",
    "mdot = ScalarField(name='mdot', initial_value=mdot_initial, mesh=mesh)\n",
    "h = ScalarField(name='enthalpy', initial_value=h_initial, mesh=mesh)\n",
    "rho = ScalarField(name='density', initial_value=rho_initial, mesh=mesh)\n",
    "\n",
    "A_mass = np.zeros([mesh.nz, mesh.nz])\n",
    "A_energy = np.zeros([mesh.nz, mesh.nz])\n",
    "A_momentum = np.zeros([mesh.nz, mesh.nz])\n",
    "\n",
    "b_mass = np.zeros([mesh.nz])\n",
    "b_energy = np.zeros([mesh.nz])\n",
    "b_momentum = np.zeros([mesh.nz])\n",
    "\n",
    "# Now iterate and add coeffs to each matrix.\n",
    "for cid in mesh.cidList:\n",
    "  area = ( mesh.cells[cid].upperArea + mesh.cells[cid].lowerArea ) / 2.0\n",
    "  dz = mesh.cells[cid].dz\n",
    "  A_X_dt = area*dz / _dt\n",
    "  A_dt = area / _dt\n",
    "  X_dt = dz / _dt\n",
    "\n",
    "  # Solve implicitely for mass flow rates based on densities\n",
    "  ### A_X_dt * (rho - rho_old) + (m - m_i-1) = 0.0\n",
    "  b_mass[cid] =  -1.0 * A_X_dt * (rho.T[cid] - rho.T_old[cid])\n",
    "  A_mass[cid,cid] = 1.0\n",
    "  if cid == 0: # Boundary\n",
    "    b_mass[cid] += mdot_bc\n",
    "  else:\n",
    "    A_mass[cid,cid-1] = -1.0\n",
    "\n",
    "np.linalg.solve(A_mass, b_mass)\n",
    "\n",
    "\n"
   ]
  },
  {
   "cell_type": "code",
   "execution_count": 12,
   "id": "86df36ce",
   "metadata": {},
   "outputs": [
    {
     "data": {
      "text/plain": [
       "array([[ 1.,  0.,  0.,  0.],\n",
       "       [-1.,  1.,  0.,  0.],\n",
       "       [ 0., -1.,  1.,  0.],\n",
       "       [ 0.,  0., -1.,  1.]])"
      ]
     },
     "execution_count": 12,
     "metadata": {},
     "output_type": "execute_result"
    }
   ],
   "source": [
    "A_mass"
   ]
  },
  {
   "cell_type": "code",
   "execution_count": null,
   "id": "9c0bc243",
   "metadata": {},
   "outputs": [],
   "source": []
  }
 ],
 "metadata": {
  "kernelspec": {
   "display_name": "openmc-env",
   "language": "python",
   "name": "python3"
  },
  "language_info": {
   "codemirror_mode": {
    "name": "ipython",
    "version": 3
   },
   "file_extension": ".py",
   "mimetype": "text/x-python",
   "name": "python",
   "nbconvert_exporter": "python",
   "pygments_lexer": "ipython3",
   "version": "3.11.6"
  }
 },
 "nbformat": 4,
 "nbformat_minor": 5
}
