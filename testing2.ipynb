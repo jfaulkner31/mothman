{
 "cells": [
  {
   "cell_type": "code",
   "execution_count": 2,
   "id": "c333d12a",
   "metadata": {},
   "outputs": [
    {
     "name": "stderr",
     "output_type": "stream",
     "text": [
      "/home/moosetools/projects/mothman/Kernels/Kernels.py:380: SyntaxWarning: \"is not\" with a literal. Did you mean \"!=\"?\n",
      "  if (boundary is not 'upper') & (boundary is not 'lower'):\n",
      "/home/moosetools/projects/mothman/Kernels/Kernels.py:380: SyntaxWarning: \"is not\" with a literal. Did you mean \"!=\"?\n",
      "  if (boundary is not 'upper') & (boundary is not 'lower'):\n"
     ]
    }
   ],
   "source": [
    "import numpy as np\n",
    "from Meshing.Meshing import *\n",
    "from Fields.Fields import *\n",
    "from Kernels.Kernels import *\n",
    "from Solvers.Solvers import *\n",
    "from Subchannel.FluidRelation import FluidRelation\n",
    "from Subchannel.Channel import Channel\n",
    "from Subchannel.Channel import ChannelInterface\n",
    "\n"
   ]
  },
  {
   "cell_type": "code",
   "execution_count": 3,
   "id": "e7eeccf6",
   "metadata": {},
   "outputs": [
    {
     "name": "stdout",
     "output_type": "stream",
     "text": [
      "Channel solved after 1 iterations!\n",
      "Channel solved after 2 iterations!\n",
      "Channel solved after 2 iterations!\n"
     ]
    }
   ],
   "source": [
    "gravity = 9.81\n",
    "Dh = 0.0158276279311347000000\n",
    "perim = 0.07267978843558340\n",
    "area = 0.000287587162368000000\n",
    "temp_tolerance = 1e-10\n",
    "max_temp_iterations = 1000\n",
    "nZones=25\n",
    "L0 = 0.0\n",
    "L1 = 1.74\n",
    "fluid = FluidRelation(cp=1983, mu=0.00744, k=1.44, rho_0 = 2715.13, drho_dT=-0.513)\n",
    "pressure_bc = 0.0\n",
    "T_bc = 900.0\n",
    "mdot_bc = 0.15\n",
    "fric = 'type1'\n",
    "_dt = 1e321\n",
    "fission_source = 1 # nu*sigmaF/k * flux\n",
    "heat_source = [0.0]*nZones # heat source in W/m3\n",
    "#################\n",
    "# CHANNEL SETUPS\n",
    "#################\n",
    "ch = Channel(gravity=gravity,\n",
    "             Dh=Dh,\n",
    "             area=area,\n",
    "             temp_tolerance=temp_tolerance,\n",
    "             max_temp_iterations=max_temp_iterations,\n",
    "             nZones=nZones,\n",
    "             L0=L0,\n",
    "             L1=L1,\n",
    "             fluid=fluid,\n",
    "             pressure_bc=pressure_bc,\n",
    "             T_bc=T_bc,\n",
    "             mdot_bc=mdot_bc,\n",
    "             fric=fric,\n",
    "             heat_source=heat_source)\n",
    "\n",
    "upper_plenum = Channel(gravity=gravity,\n",
    "                       Dh=Dh,\n",
    "                       area=area,\n",
    "                       temp_tolerance=temp_tolerance,\n",
    "                       max_temp_iterations=max_temp_iterations,\n",
    "                       nZones=nZones,\n",
    "                       L0=0,\n",
    "                       L1=0.15,\n",
    "                       fluid=fluid,\n",
    "                       pressure_bc=pressure_bc,\n",
    "                       T_bc=1.0,\n",
    "                       mdot_bc=1.0,\n",
    "                       fric='none',\n",
    "                       heat_source=0.0)\n",
    "\n",
    "external_loop = Channel(gravity=gravity,\n",
    "                       Dh=Dh,\n",
    "                       area=area*100,\n",
    "                       temp_tolerance=temp_tolerance,\n",
    "                       max_temp_iterations=max_temp_iterations,\n",
    "                       nZones=nZones,\n",
    "                       L0=0,\n",
    "                       L1=5.0,\n",
    "                       fluid=fluid,\n",
    "                       pressure_bc=pressure_bc,\n",
    "                       T_bc=1.0,\n",
    "                       mdot_bc=1.0,\n",
    "                       fric='none',\n",
    "                       heat_source=0.0)\n",
    "\n",
    "\n",
    "# Interfaces to handle data passing from one channel to another.\n",
    "ch_to_plenum = ChannelInterface(ch1=ch, ch2=upper_plenum)\n",
    "plenum_to_ex = ChannelInterface(ch1=upper_plenum, ch2=external_loop)\n",
    "ex_to_ch = ChannelInterface(ch1=external_loop, ch2=ch)\n",
    "\n",
    "# Solution order - main channel -> plenum -> external loop -> channel\n",
    "ch.solve_channel_TH(_dt=_dt)\n",
    "ch_to_plenum.update_interface_conditions()\n",
    "\n",
    "upper_plenum.solve_channel_TH(_dt=_dt)\n",
    "plenum_to_ex.update_interface_conditions()\n",
    "\n",
    "external_loop.solve_channel_TH(_dt=_dt)\n",
    "ex_to_ch.update_interface_conditions()\n",
    "\n",
    "\n",
    "\n",
    "# End\n",
    "\n"
   ]
  },
  {
   "cell_type": "code",
   "execution_count": null,
   "id": "847ef5fa",
   "metadata": {},
   "outputs": [
    {
     "name": "stdout",
     "output_type": "stream",
     "text": [
      "[0.89950465 0.80685242 0.69954831 0.60280144 0.518845   0.44648758\n",
      " 0.38420596 0.33060974 0.28448974 0.24480341 0.21065331 0.18126717\n",
      " 0.15598035 0.13422116 0.11549709 0.09938573 0.08552021 0.07359305\n",
      " 0.06331976 0.05450372 0.04685912 0.04042233 0.03454111 0.03030935\n",
      " 0.02466048]\n"
     ]
    }
   ],
   "source": [
    "### ADDED THESE TO TO CHANNEL CODE - NOW NEED TO INCORPORATE PASSING OF OUTGOING VALUES INTO CHANNEL.PY\n",
    "### IN GET_OUTLET_CONDITIONS() - AND - UPDATE_INTERFACE_CONDITIONS() SO THAT TRACERS ARE HANDLED SEAMLESSLY.\n",
    "# DNP EQUATION\n",
    "c1 = ScalarField(name='c1', initial_value=0.0, mesh=ch.mesh)\n",
    "\n",
    "# KERNELS\n",
    "c1_adv = AdvectionKernel(field=c1, mesh=ch.mesh, w=ch.velocity_faces, scheme='quick', rho=1.0)\n",
    "c1_decay = ImplicitReactionKernel(field=c1, mesh=ch.mesh,lam=0.5)\n",
    "\n",
    "# BCS\n",
    "bc = AdvectedInletFluxBC(field=c1, mesh=ch.mesh, boundary='lower', phi=1.0, w=ch.velocity_faces, rho=1.0)\n",
    "\n",
    "# SOLVER\n",
    "solver = BasicSolver(kernels=[c1_decay, c1_adv], bcs=[bc], field=c1)\n",
    "solver.solve()\n",
    "\n",
    "print(c1.T)\n"
   ]
  },
  {
   "cell_type": "code",
   "execution_count": 5,
   "id": "cfd9d974",
   "metadata": {},
   "outputs": [
    {
     "data": {
      "text/plain": [
       "array([0.23146093, 0.23146093, 0.23146093, 0.23146093, 0.23146093,\n",
       "       0.23146093, 0.23146093, 0.23146093, 0.23146093, 0.23146093,\n",
       "       0.23146093, 0.23146093, 0.23146093, 0.23146093, 0.23146093,\n",
       "       0.23146093, 0.23146093, 0.23146093, 0.23146093, 0.23146093,\n",
       "       0.23146093, 0.23146093, 0.23146093, 0.23146093, 0.23146093,\n",
       "       0.23146093])"
      ]
     },
     "execution_count": 5,
     "metadata": {},
     "output_type": "execute_result"
    }
   ],
   "source": [
    "ch.velocity_faces.T"
   ]
  },
  {
   "cell_type": "code",
   "execution_count": 6,
   "id": "31cf6b6d",
   "metadata": {},
   "outputs": [
    {
     "data": {
      "text/plain": [
       "array([900., 900., 900., 900., 900., 900., 900., 900., 900., 900., 900.,\n",
       "       900., 900., 900., 900., 900., 900., 900., 900., 900., 900., 900.,\n",
       "       900., 900., 900.])"
      ]
     },
     "execution_count": 6,
     "metadata": {},
     "output_type": "execute_result"
    }
   ],
   "source": [
    "ch.temp.T"
   ]
  },
  {
   "cell_type": "code",
   "execution_count": 7,
   "id": "96792989",
   "metadata": {},
   "outputs": [
    {
     "data": {
      "text/plain": [
       "[<matplotlib.lines.Line2D at 0x7fc9a665c8d0>]"
      ]
     },
     "execution_count": 7,
     "metadata": {},
     "output_type": "execute_result"
    },
    {
     "data": {
      "image/png": "[encoded data removed]",
      "text/plain": [
       "<Figure size 640x480 with 1 Axes>"
      ]
     },
     "metadata": {},
     "output_type": "display_data"
    }
   ],
   "source": [
    "# velocities at faces and at centroids\n",
    "plt.plot(ch.mesh.nodeCoords, ch.velocity_faces.T, 'k--s')\n",
    "plt.plot(ch.mesh.centroids, ch.mdot.T / ch.rho.T / ch.area, 'r--s')"
   ]
  },
  {
   "cell_type": "code",
   "execution_count": 8,
   "id": "587a0d91",
   "metadata": {},
   "outputs": [
    {
     "data": {
      "text/plain": [
       "array([900., 900., 900., 900., 900., 900., 900., 900., 900., 900., 900.,\n",
       "       900., 900., 900., 900., 900., 900., 900., 900., 900., 900., 900.,\n",
       "       900., 900., 900.])"
      ]
     },
     "execution_count": 8,
     "metadata": {},
     "output_type": "execute_result"
    }
   ],
   "source": [
    "external_loop.temp.T"
   ]
  },
  {
   "cell_type": "code",
   "execution_count": 9,
   "id": "e98914d3",
   "metadata": {},
   "outputs": [
    {
     "data": {
      "text/plain": [
       "899.9999999999995"
      ]
     },
     "execution_count": 9,
     "metadata": {},
     "output_type": "execute_result"
    }
   ],
   "source": [
    "ch.T_bc"
   ]
  },
  {
   "cell_type": "code",
   "execution_count": 10,
   "id": "ddd2acb3",
   "metadata": {},
   "outputs": [
    {
     "data": {
      "text/plain": [
       "array([3846336.20689655,       0.        ,       0.        ,\n",
       "             0.        ,       0.        ,       0.        ,\n",
       "             0.        ,       0.        ,       0.        ,\n",
       "             0.        ,       0.        ,       0.        ,\n",
       "             0.        ,       0.        ,       0.        ,\n",
       "             0.        ,       0.        ,       0.        ,\n",
       "             0.        ,       0.        ,       0.        ,\n",
       "             0.        ,       0.        ,       0.        ,\n",
       "             0.        ])"
      ]
     },
     "execution_count": 10,
     "metadata": {},
     "output_type": "execute_result"
    }
   ],
   "source": [
    "ch.b_energy"
   ]
  },
  {
   "cell_type": "code",
   "execution_count": 11,
   "id": "b36f5830",
   "metadata": {},
   "outputs": [
    {
     "data": {
      "text/plain": [
       "array([900., 900., 900., 900., 900., 900., 900., 900., 900., 900., 900.,\n",
       "       900., 900., 900., 900., 900., 900., 900., 900., 900., 900., 900.,\n",
       "       900., 900., 900.])"
      ]
     },
     "execution_count": 11,
     "metadata": {},
     "output_type": "execute_result"
    }
   ],
   "source": [
    "ch.temp.T"
   ]
  },
  {
   "cell_type": "code",
   "execution_count": 12,
   "id": "2c80701d",
   "metadata": {},
   "outputs": [
    {
     "data": {
      "text/plain": [
       "0.00019675308308032713"
      ]
     },
     "execution_count": 12,
     "metadata": {},
     "output_type": "execute_result"
    }
   ],
   "source": [
    "np.pi * Dh**2 / 4"
   ]
  },
  {
   "cell_type": "code",
   "execution_count": 13,
   "id": "d02a1b1f",
   "metadata": {},
   "outputs": [
    {
     "data": {
      "text/plain": [
       "0.113884516297728"
      ]
     },
     "execution_count": 13,
     "metadata": {},
     "output_type": "execute_result"
    }
   ],
   "source": [
    "0.18*area*2200"
   ]
  },
  {
   "cell_type": "code",
   "execution_count": 14,
   "id": "81947091",
   "metadata": {},
   "outputs": [
    {
     "data": {
      "text/plain": [
       "[0.0,\n",
       " 0.0,\n",
       " 0.0,\n",
       " 0.0,\n",
       " 0.0,\n",
       " 0.0,\n",
       " 0.0,\n",
       " 0.0,\n",
       " 0.0,\n",
       " 0.0,\n",
       " 0.0,\n",
       " 0.0,\n",
       " 0.0,\n",
       " 0.0,\n",
       " 0.0,\n",
       " 0.0,\n",
       " 0.0,\n",
       " 0.0,\n",
       " 0.0,\n",
       " 0.0,\n",
       " 0.0,\n",
       " 0.0,\n",
       " 0.0,\n",
       " 0.0,\n",
       " 0.0]"
      ]
     },
     "execution_count": 14,
     "metadata": {},
     "output_type": "execute_result"
    }
   ],
   "source": [
    "ch.heat_source"
   ]
  },
  {
   "cell_type": "code",
   "execution_count": 15,
   "id": "abf3975f",
   "metadata": {},
   "outputs": [
    {
     "data": {
      "text/plain": [
       "array([1784700., 1784700., 1784700., 1784700., 1784700., 1784700.,\n",
       "       1784700., 1784700., 1784700., 1784700., 1784700., 1784700.,\n",
       "       1784700., 1784700., 1784700., 1784700., 1784700., 1784700.,\n",
       "       1784700., 1784700., 1784700., 1784700., 1784700., 1784700.,\n",
       "       1784700.])"
      ]
     },
     "execution_count": 15,
     "metadata": {},
     "output_type": "execute_result"
    }
   ],
   "source": [
    "ch.h.T"
   ]
  },
  {
   "cell_type": "code",
   "execution_count": 16,
   "id": "775ec8c1",
   "metadata": {},
   "outputs": [
    {
     "data": {
      "text/plain": [
       "1784699.999999999"
      ]
     },
     "execution_count": 16,
     "metadata": {},
     "output_type": "execute_result"
    }
   ],
   "source": [
    "ch.h_bc"
   ]
  }
 ],
 "metadata": {
  "kernelspec": {
   "display_name": "openmc-env",
   "language": "python",
   "name": "python3"
  },
  "language_info": {
   "codemirror_mode": {
    "name": "ipython",
    "version": 3
   },
   "file_extension": ".py",
   "mimetype": "text/x-python",
   "name": "python",
   "nbconvert_exporter": "python",
   "pygments_lexer": "ipython3",
   "version": "3.11.6"
  }
 },
 "nbformat": 4,
 "nbformat_minor": 5
}
