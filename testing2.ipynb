{
 "cells": [
  {
   "cell_type": "code",
   "execution_count": 1,
   "id": "c333d12a",
   "metadata": {},
   "outputs": [],
   "source": [
    "import numpy as np\n",
    "from Meshing.Meshing import *\n",
    "from Fields.Fields import *\n",
    "from Kernels.Kernels import *\n",
    "from Solvers.Solvers import *\n",
    "from Subchannel.FluidRelation import FluidRelation\n",
    "from Subchannel.Channel import Channel\n",
    "\n"
   ]
  },
  {
   "cell_type": "code",
   "execution_count": 2,
   "id": "e7eeccf6",
   "metadata": {},
   "outputs": [
    {
     "ename": "TypeError",
     "evalue": "'ScalarField' object is not subscriptable",
     "output_type": "error",
     "traceback": [
      "\u001b[0;31m---------------------------------------------------------------------------\u001b[0m",
      "\u001b[0;31mTypeError\u001b[0m                                 Traceback (most recent call last)",
      "Cell \u001b[0;32mIn[2], line 34\u001b[0m\n\u001b[1;32m     17\u001b[0m heat_source \u001b[38;5;241m=\u001b[39m \u001b[38;5;241m8e6\u001b[39m \u001b[38;5;241m/\u001b[39m area \u001b[38;5;241m/\u001b[39m (L1 \u001b[38;5;241m-\u001b[39m L0)\u001b[38;5;241m*\u001b[39mnZones\n\u001b[1;32m     19\u001b[0m ch \u001b[38;5;241m=\u001b[39m Channel(gravity\u001b[38;5;241m=\u001b[39mgravity,\n\u001b[1;32m     20\u001b[0m              Dh\u001b[38;5;241m=\u001b[39mDh,\n\u001b[1;32m     21\u001b[0m              area\u001b[38;5;241m=\u001b[39marea,\n\u001b[0;32m   (...)\u001b[0m\n\u001b[1;32m     31\u001b[0m              fric\u001b[38;5;241m=\u001b[39mfric,\n\u001b[1;32m     32\u001b[0m              heat_source\u001b[38;5;241m=\u001b[39mheat_source)\n\u001b[0;32m---> 34\u001b[0m \u001b[43mch\u001b[49m\u001b[38;5;241;43m.\u001b[39;49m\u001b[43msolve_channel\u001b[49m\u001b[43m(\u001b[49m\u001b[43m_dt\u001b[49m\u001b[38;5;241;43m=\u001b[39;49m\u001b[43m_dt\u001b[49m\u001b[43m)\u001b[49m\n",
      "File \u001b[0;32m~/projects/mothman/Subchannel/Channel.py:219\u001b[0m, in \u001b[0;36mChannel.solve_channel\u001b[0;34m(self, _dt)\u001b[0m\n\u001b[1;32m    216\u001b[0m   max_diff \u001b[38;5;241m=\u001b[39m \u001b[38;5;28mself\u001b[39m\u001b[38;5;241m.\u001b[39msolve_EOS() \u001b[38;5;66;03m# solves and updates temperature and density - returns maximum temp diff.\u001b[39;00m\n\u001b[1;32m    218\u001b[0m \u001b[38;5;66;03m# After we solve we update our channel conditions for later reference:\u001b[39;00m\n\u001b[0;32m--> 219\u001b[0m \u001b[38;5;28;43mself\u001b[39;49m\u001b[38;5;241;43m.\u001b[39;49m\u001b[43mupdate_channel_conditions\u001b[49m\u001b[43m(\u001b[49m\u001b[43m)\u001b[49m\n",
      "File \u001b[0;32m~/projects/mothman/Subchannel/Channel.py:197\u001b[0m, in \u001b[0;36mChannel.update_channel_conditions\u001b[0;34m(self)\u001b[0m\n\u001b[1;32m    195\u001b[0m \u001b[38;5;28mself\u001b[39m\u001b[38;5;241m.\u001b[39mchannel_conditions[\u001b[38;5;124m'\u001b[39m\u001b[38;5;124mmdot_out\u001b[39m\u001b[38;5;124m'\u001b[39m] \u001b[38;5;241m=\u001b[39m \u001b[38;5;28mself\u001b[39m\u001b[38;5;241m.\u001b[39mmdot\u001b[38;5;241m.\u001b[39mT[\u001b[38;5;241m-\u001b[39m\u001b[38;5;241m1\u001b[39m]\n\u001b[1;32m    196\u001b[0m \u001b[38;5;28mself\u001b[39m\u001b[38;5;241m.\u001b[39mchannel_conditions[\u001b[38;5;124m'\u001b[39m\u001b[38;5;124mmdot_in\u001b[39m\u001b[38;5;124m'\u001b[39m] \u001b[38;5;241m=\u001b[39m \u001b[38;5;28mself\u001b[39m\u001b[38;5;241m.\u001b[39mmdot_bc\n\u001b[0;32m--> 197\u001b[0m \u001b[38;5;28mself\u001b[39m\u001b[38;5;241m.\u001b[39mchannel_conditions[\u001b[38;5;124m'\u001b[39m\u001b[38;5;124mT_out\u001b[39m\u001b[38;5;124m'\u001b[39m] \u001b[38;5;241m=\u001b[39m \u001b[38;5;28;43mself\u001b[39;49m\u001b[38;5;241;43m.\u001b[39;49m\u001b[43mtemp\u001b[49m\u001b[43m[\u001b[49m\u001b[38;5;241;43m-\u001b[39;49m\u001b[38;5;241;43m1\u001b[39;49m\u001b[43m]\u001b[49m\n\u001b[1;32m    198\u001b[0m \u001b[38;5;28mself\u001b[39m\u001b[38;5;241m.\u001b[39mchannel_conditions[\u001b[38;5;124m'\u001b[39m\u001b[38;5;124mT_in\u001b[39m\u001b[38;5;124m'\u001b[39m] \u001b[38;5;241m=\u001b[39m \u001b[38;5;28mself\u001b[39m\u001b[38;5;241m.\u001b[39mT_bc\n",
      "\u001b[0;31mTypeError\u001b[0m: 'ScalarField' object is not subscriptable"
     ]
    }
   ],
   "source": [
    "gravity = 9.81\n",
    "Dh = 0.0158276279311347000000\n",
    "perim = 0.07267978843558340\n",
    "area = 0.000287587162368000000\n",
    "temp_tolerance = 1e-10\n",
    "max_temp_iterations = 1000\n",
    "nZones=5\n",
    "L0 = 0.0\n",
    "L1 = 1.74\n",
    "fluid = FluidRelation(cp=1983, mu=0.00744, k=1.44, rho_0 = 2715.13, drho_dT=-0.513)\n",
    "pressure_bc = 0.0\n",
    "T_bc = 900.0\n",
    "mdot_bc = 0.0607\n",
    "fric = 'type1'\n",
    "_dt = 1e321\n",
    "fission_source = 1 # nu*sigmaF/k * flux\n",
    "heat_source = 8e6 / area / (L1 - L0)*nZones\n",
    "\n",
    "ch = Channel(gravity=gravity,\n",
    "             Dh=Dh,\n",
    "             area=area,\n",
    "             temp_tolerance=temp_tolerance,\n",
    "             max_temp_iterations=max_temp_iterations,\n",
    "             nZones=nZones,\n",
    "             L0=L0,\n",
    "             L1=L1,\n",
    "             fluid=fluid,\n",
    "             pressure_bc=pressure_bc,\n",
    "             T_bc=T_bc,\n",
    "             mdot_bc=mdot_bc,\n",
    "             fric=fric,\n",
    "             heat_source=heat_source)\n",
    "\n",
    "ch.solve_channel(_dt=_dt)"
   ]
  },
  {
   "cell_type": "code",
   "execution_count": null,
   "id": "ddd2acb3",
   "metadata": {},
   "outputs": [],
   "source": [
    "ch.pressure.T"
   ]
  }
 ],
 "metadata": {
  "kernelspec": {
   "display_name": "openmc-env",
   "language": "python",
   "name": "python3"
  },
  "language_info": {
   "codemirror_mode": {
    "name": "ipython",
    "version": 3
   },
   "file_extension": ".py",
   "mimetype": "text/x-python",
   "name": "python",
   "nbconvert_exporter": "python",
   "pygments_lexer": "ipython3",
   "version": "3.11.6"
  }
 },
 "nbformat": 4,
 "nbformat_minor": 5
}
