{
 "cells": [
  {
   "cell_type": "markdown",
   "metadata": {},
   "source": [
    "### Meshing jupyter notebook"
   ]
  },
  {
   "cell_type": "code",
   "execution_count": 23,
   "metadata": {},
   "outputs": [],
   "source": [
    "import numpy as np\n",
    "from Meshing.Meshing import *\n",
    "from Fields.Fields import *\n",
    "from Kernels.Kernels import *\n",
    "from Solvers.Solvers import *"
   ]
  },
  {
   "cell_type": "code",
   "execution_count": 24,
   "metadata": {},
   "outputs": [
    {
     "data": {
      "text/plain": [
       "'\\nOrder of operation:\\n 1. make a mesh\\n 2. make a field / variable T\\n 3. make kernels that operate on that field for that mesh\\n'"
      ]
     },
     "execution_count": 24,
     "metadata": {},
     "output_type": "execute_result"
    }
   ],
   "source": [
    "\"\"\"\n",
    "Order of operation:\n",
    " 1. make a mesh\n",
    " 2. make a field / variable T\n",
    " 3. make kernels that operate on that field for that mesh\n",
    "\"\"\""
   ]
  },
  {
   "cell_type": "code",
   "execution_count": 25,
   "metadata": {},
   "outputs": [],
   "source": [
    "class FlowChannel:\n",
    "  \"\"\"\n",
    "  Flow channel object for thermal hydraulics - 1D\n",
    "  mesh: Mesh_1D object representing mesh\n",
    "  pressure_closure: closure relationship used for pressure loss model\n",
    "  TH_closure: TH closure used for heat flux calculations\n",
    "  \"\"\"\n",
    "  def __init__(self,\n",
    "               mesh: Mesh_1D,\n",
    "               pressure_closure: str, TH_closure: str,\n",
    "               inlet_loss_coeff: float,\n",
    "               outlet_loss_coeff: float,\n",
    "               flow_area: float,\n",
    "               wall_area: float):\n",
    "    self.mesh = mesh\n",
    "    self.pressure_closure = pressure_closure\n",
    "    self.TH_closure = TH_closure\n",
    "    self.inlet_loss_coeff = inlet_loss_coeff\n",
    "    self.outlet_loss_coeff = outlet_loss_coeff\n",
    "\n",
    "    # we make these vectors in case they vary with height\n",
    "    self.nz = self.mesh.nz\n",
    "    self.flow_area = np.ones(self.nz)*flow_area\n",
    "    self.wall_area = np.ones(self.nz)*wall_area"
   ]
  },
  {
   "cell_type": "code",
   "execution_count": 52,
   "metadata": {},
   "outputs": [
    {
     "name": "stdout",
     "output_type": "stream",
     "text": [
      "Cell peclet number is:  1.0\n"
     ]
    }
   ],
   "source": [
    "# initial parameters / user input\n",
    "nZones = 11\n",
    "ic = 0.0\n",
    "Gamma = 0.1\n",
    "w=1.0\n",
    "upper_phi = 0\n",
    "lower_phi = 1\n",
    "rho=1.0\n",
    "L0 = 0\n",
    "L1 = 1\n",
    "scheme = 'quick'\n",
    "\n",
    "\n",
    "cell_peclet = rho * w * ((L1-L0)/(nZones-1))/Gamma\n",
    "print(\"Cell peclet number is: \", cell_peclet)\n",
    "\n",
    "coords = np.linspace(L0,L1,nZones)\n",
    "areas = [1]*nZones\n",
    "\n",
    "# Make a mesh\n",
    "mesh = Mesh_1D(nodeCoords=coords, faceAreas=areas)\n",
    "\n",
    "# Make a field for this scalar\n",
    "field = ScalarField(name='T', initial_value=ic, mesh=mesh)\n",
    "\n",
    "# Make some kernels\n",
    "diff_T = DiffusionKernel(field=field, mesh=mesh, Gamma=Gamma)\n",
    "adv_T = AdvectionKernel(field=field,mesh=mesh,w=w,scheme=scheme, rho=rho)\n",
    "\n",
    "# make some boundary conditions now\n",
    "upper_bc = DirchletBC(field=field, mesh=mesh, phi=upper_phi, Gamma=Gamma, boundary='upper')\n",
    "lower_bc = DirchletBC(field=field, mesh=mesh, phi=lower_phi, Gamma=Gamma, boundary='lower')\n",
    "\n",
    "# now collect everything\n",
    "bcs = [upper_bc, lower_bc]\n",
    "kernels = [adv_T, diff_T]\n",
    "\n",
    "solver = BasicSolver(bcs=bcs, kernels=kernels, field=field)\n",
    "solver.solve()\n"
   ]
  },
  {
   "cell_type": "code",
   "execution_count": 53,
   "metadata": {},
   "outputs": [
    {
     "data": {
      "text/plain": [
       "(0.0, 1.0)"
      ]
     },
     "execution_count": 53,
     "metadata": {},
     "output_type": "execute_result"
    },
    {
     "data": {
      "image/png": "[encoded data removed]",
      "text/plain": [
       "<Figure size 640x480 with 1 Axes>"
      ]
     },
     "metadata": {},
     "output_type": "display_data"
    }
   ],
   "source": [
    "plt.plot(field.centroids, field.T, 'rs--', markerfacecolor='w')\n",
    "plt.plot(field.centroids, field2.T, 'k^--', markerfacecolor='w')\n",
    "plt.ylim([0,1.2])\n",
    "plt.xlim([0,1])"
   ]
  },
  {
   "cell_type": "code",
   "execution_count": 51,
   "metadata": {},
   "outputs": [],
   "source": [
    "field2 = field"
   ]
  },
  {
   "cell_type": "code",
   "execution_count": 34,
   "metadata": {},
   "outputs": [
    {
     "data": {
      "text/plain": [
       "[0.05,\n",
       " 0.15000000000000002,\n",
       " 0.25,\n",
       " 0.35000000000000003,\n",
       " 0.45,\n",
       " 0.55,\n",
       " 0.6500000000000001,\n",
       " 0.75,\n",
       " 0.8500000000000001,\n",
       " 0.95]"
      ]
     },
     "execution_count": 34,
     "metadata": {},
     "output_type": "execute_result"
    }
   ],
   "source": [
    "field.centroids"
   ]
  },
  {
   "cell_type": "code",
   "execution_count": null,
   "metadata": {},
   "outputs": [],
   "source": []
  }
 ],
 "metadata": {
  "kernelspec": {
   "display_name": "openmc-env",
   "language": "python",
   "name": "python3"
  },
  "language_info": {
   "codemirror_mode": {
    "name": "ipython",
    "version": 3
   },
   "file_extension": ".py",
   "mimetype": "text/x-python",
   "name": "python",
   "nbconvert_exporter": "python",
   "pygments_lexer": "ipython3",
   "version": "3.11.6"
  }
 },
 "nbformat": 4,
 "nbformat_minor": 2
}
