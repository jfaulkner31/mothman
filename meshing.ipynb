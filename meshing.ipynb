{
 "cells": [
  {
   "cell_type": "markdown",
   "metadata": {},
   "source": [
    "### Meshing jupyter notebook"
   ]
  },
  {
   "cell_type": "code",
   "execution_count": 1,
   "metadata": {},
   "outputs": [],
   "source": [
    "import numpy as np\n",
    "from Meshing.Meshing import Mesh_1D\n",
    "from Fields.Fields import ScalarField"
   ]
  },
  {
   "cell_type": "code",
   "execution_count": null,
   "metadata": {},
   "outputs": [
    {
     "data": {
      "text/plain": [
       "'\\nOrder of operation:\\n 1. make a mesh\\n 2. make a flow channel(s)\\n 3. make variables that exist on said mesh\\n'"
      ]
     },
     "execution_count": 2,
     "metadata": {},
     "output_type": "execute_result"
    }
   ],
   "source": [
    "\"\"\"\n",
    "Order of operation:\n",
    " 1. make a mesh\n",
    " 2. make a field / variable T\n",
    " 3."
   ]
  },
  {
   "cell_type": "code",
   "execution_count": 3,
   "metadata": {},
   "outputs": [],
   "source": [
    "class FlowChannel:\n",
    "  \"\"\"\n",
    "  Flow channel object for thermal hydraulics - 1D\n",
    "  mesh: Mesh_1D object representing mesh\n",
    "  pressure_closure: closure relationship used for pressure loss model\n",
    "  TH_closure: TH closure used for heat flux calculations\n",
    "  \"\"\"\n",
    "  def __init__(self, mesh: Mesh_1D, pressure_closure: str, TH_closure: str,\n",
    "               inlet_loss_coeff: float, outlet_loss_coeff: float):\n",
    "    self.mesh = mesh\n",
    "    self.pressure_closure = pressure_closure\n",
    "    self.TH_closure = TH_closure\n",
    "    self.inlet_loss_coeff = inlet_loss_coeff\n",
    "    self.outlet_loss_coeff = outlet_loss_coeff"
   ]
  },
  {
   "cell_type": "code",
   "execution_count": null,
   "metadata": {},
   "outputs": [],
   "source": [
    "class Kernel:\n",
    "  def __init__(self):\n",
    "    pass"
   ]
  }
 ],
 "metadata": {
  "kernelspec": {
   "display_name": "openmc-env",
   "language": "python",
   "name": "python3"
  },
  "language_info": {
   "codemirror_mode": {
    "name": "ipython",
    "version": 3
   },
   "file_extension": ".py",
   "mimetype": "text/x-python",
   "name": "python",
   "nbconvert_exporter": "python",
   "pygments_lexer": "ipython3",
   "version": "3.11.6"
  }
 },
 "nbformat": 4,
 "nbformat_minor": 2
}
